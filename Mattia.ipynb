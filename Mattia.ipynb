{
 "cells": [
  {
   "cell_type": "markdown",
   "id": "01ba3847-a73c-4ad2-9635-95e87a04abd2",
   "metadata": {
    "tags": []
   },
   "source": [
    "# Homework 3 - Places of the world"
   ]
  },
  {
   "cell_type": "markdown",
   "id": "7a5ca2b4-9abf-4ce9-8c21-38cd2080cf60",
   "metadata": {},
   "source": [
    "## Libriaries"
   ]
  },
  {
   "cell_type": "code",
   "execution_count": 67,
   "id": "59a2ad83-0386-4aff-8ebc-52f83d38edf6",
   "metadata": {},
   "outputs": [],
   "source": [
    "## libraries used for web scraping\n",
    "from urllib.request import urlopen\n",
    "from bs4 import BeautifulSoup \n",
    "import requests\n",
    "import re\n",
    "import urllib.request\n",
    "import urllib.parse\n",
    "import os\n",
    "from time import perf_counter\n",
    "from clear_cache import clear as clean_cache\n",
    "from multiprocessing import Pool\n",
    "import haversine as hv\n",
    "\n",
    "\n",
    "import json"
   ]
  },
  {
   "cell_type": "code",
   "execution_count": 68,
   "id": "4808e431-1c72-4546-aff3-0ec6232dd234",
   "metadata": {},
   "outputs": [],
   "source": [
    "#nltk\n",
    "import nltk\n",
    "\n",
    "from nltk.corpus import stopwords\n",
    "from nltk.tokenize import word_tokenize\n",
    "from nltk.tokenize import RegexpTokenizer\n",
    "from nltk.corpus import words  \n",
    "from nltk.corpus import wordnet as wn\n",
    "from collections import Counter\n",
    "from nltk.corpus import stopwords\n",
    "from nltk.stem import WordNetLemmatizer\n",
    "from nltk.corpus import stopwords\n"
   ]
  },
  {
   "cell_type": "code",
   "execution_count": 69,
   "id": "2157dbdd-d0c6-4a10-bbfd-fa6e15af6efa",
   "metadata": {},
   "outputs": [],
   "source": [
    "## other libraries\n",
    "import pandas as pd\n",
    "import numpy as np\n",
    "import re\n",
    "\n",
    "from collections import Counter"
   ]
  },
  {
   "cell_type": "code",
   "execution_count": 70,
   "id": "0eb9adb3-1d37-4dca-baae-200d1b78a241",
   "metadata": {},
   "outputs": [],
   "source": [
    "## skitlearn\n",
    "from sklearn.metrics.pairwise import cosine_similarity\n",
    "from sklearn.feature_extraction.text import TfidfVectorizer "
   ]
  },
  {
   "cell_type": "code",
   "execution_count": 71,
   "id": "5f767218-afa9-4f81-96f8-8439c6b837c5",
   "metadata": {},
   "outputs": [],
   "source": [
    "# plots\n",
    "import matplotlib.pyplot as plt\n",
    "import seaborn as sbn\n",
    "import plotly.express as px\n",
    "import plotly.graph_objects as go"
   ]
  },
  {
   "cell_type": "markdown",
   "id": "26335054-8e94-4ef7-bd76-6c593257bcc0",
   "metadata": {},
   "source": [
    "### 1. Data collection"
   ]
  },
  {
   "cell_type": "markdown",
   "id": "dd4bf5a1-f1fd-4d28-a47c-8f9ef646eea5",
   "metadata": {
    "tags": []
   },
   "source": [
    "#### 1.1. Get the list of places"
   ]
  },
  {
   "cell_type": "markdown",
   "id": "21067bba-a928-4643-b180-1e4d455be6d3",
   "metadata": {},
   "source": [
    "We focus on the Most popular places from https://www.atlasobscura.com\n",
    "<br>We want you to collect the URL associated with each site in the list from this list. The list is long and split into many pages. Therefore, we retrieve only the URLs of the places in the first 400 pages (each page has 18 places, so 7200 links).\n",
    "The final  output is a .txt file where a single line corresponds to the place's URL."
   ]
  },
  {
   "cell_type": "code",
   "execution_count": null,
   "id": "b44ffe2b-c30f-41e7-9a75-67a160282e38",
   "metadata": {},
   "outputs": [],
   "source": [
    "f = open(\"urls.txt\", \"w\") ## We created a .txt file in writing mode\n",
    "\n",
    "for i in range(1,401): \n",
    "    url = f'https://www.atlasobscura.com/places?page={i}&sort=likes_count' # We noticed that the urls of each page in most popular place is the same, except for page=i\n",
    "    # So pages can be scrolled by changing the number after page=i (e.g. https://www.atlasobscura.com/places?page=10&sort=likes_count correspons to the tenth page in Most popular places)\n",
    "    \n",
    "    reqs = requests.get(url) ## We used library requests in order to get the url from a string\n",
    "    \n",
    "    soup = BeautifulSoup(reqs.text, 'html.parser') # We used BeautifulSoup to get html of each page\n",
    "    \n",
    "    for link in soup.find_all(class_=re.compile(\"content-card content-card-place\")): # find_all in order to get each tag of the page which belongs to a specific class\n",
    "        a=(link.get('href')) # With 'href' we got the url of each place inside the i-th page \n",
    "        \n",
    "        f.write('https://www.atlasobscura.com/'+a) # Wrting the rows of .txt file with the complete url\n",
    "        f.write('\\n')# each row has only one url\n",
    "f.close()"
   ]
  },
  {
   "cell_type": "markdown",
   "id": "d16452c4-5736-48c6-9bef-c756e31c01e6",
   "metadata": {},
   "source": [
    "#### 1.2. Crawl places\n"
   ]
  },
  {
   "cell_type": "markdown",
   "id": "57344f57-8ad0-4380-9aa2-357192c5997c",
   "metadata": {},
   "source": [
    "In this step we executed the following passages:\n",
    "1. Download the .html file corresponding to each url collected in the previous task.\n",
    "2. For each page in Most popular place we created a folder containing the html of all places of a specific page.\n",
    "   <BR>(e.g. within the 40th folder there will be all the places' html belonging to the 40th page in Most common place on AtlasObscura)\n",
    "3. Using multiprocessing(a procees based on parallelism) we reduced the time to download the html files."
   ]
  },
  {
   "cell_type": "code",
   "execution_count": null,
   "id": "ddd88715-6919-4714-8015-e8d1bdf80631",
   "metadata": {
    "tags": []
   },
   "outputs": [],
   "source": [
    "def download_process(i):\n",
    "        url = f'https://www.atlasobscura.com/places?page={i}&sort=likes_count'\n",
    "        \n",
    "        reqs = requests.get(url)\n",
    "        soup = BeautifulSoup(reqs.text, 'html.parser')\n",
    "        os.makedirs('PAGE '+str(i)) # Creating a folder, its name is Page and the number of the page\n",
    "        os.chdir('PAGE '+str(i)) ## Go inside the directory just created\n",
    "       \n",
    "        for link in soup.find_all(class_=re.compile(\"content-card content-card-place\")):\n",
    "            a=(link.get('href'))\n",
    "            url_='https://www.atlasobscura.com/'+a\n",
    "            file= open(str(a)[8:]+'.html','w',encoding=\"UTF-8\") # craeting an html file in each link inside a page \n",
    "            with urlopen( url_ ) as webpage:\n",
    "                content = webpage.read().decode() # using urlopen to get html file of each place\n",
    "            file.write(content) # Writing the file just created\n",
    "            file.close() # closing \n",
    "        os.chdir('..') # going back to previous folder\n",
    "        \n",
    "\n",
    "        clean_cache() # clean cache \n",
    "\n",
    "    \n",
    "def multiprocessing_fun(N):\n",
    "    for i in range(1,N+1):\n",
    "        p=Process(target=download_process(i))\n",
    "        p.start()\n",
    "        p.join()\n",
    "        \n",
    "if __name__ == \"__main__\":\n",
    "    multiprocessing_fun(400)"
   ]
  },
  {
   "cell_type": "markdown",
   "id": "85f3be4f-74f1-4945-b8b9-9087201cd163",
   "metadata": {},
   "source": [
    "##### Comparing results without and with multiprocessing"
   ]
  },
  {
   "cell_type": "code",
   "execution_count": null,
   "id": "59d6a1c1-5aba-49b8-a7cb-851865ae4f2d",
   "metadata": {},
   "outputs": [],
   "source": [
    "## Without multiprocessing\n",
    "times={}\n",
    "for i in range(1,51):\n",
    "        url = f'https://www.atlasobscura.com/places?page={i}&sort=likes_count'\n",
    "        start_time = perf_counter()\n",
    "        reqs = requests.get(url)\n",
    "        soup = BeautifulSoup(reqs.text, 'html.parser')\n",
    "        os.makedirs('PAG '+str(i))\n",
    "        os.chdir('PAG '+str(i))\n",
    "        count=i\n",
    "        for link in soup.find_all(class_=re.compile(\"content-card content-card-place\")):\n",
    "            a=(link.get('href'))\n",
    "            url_='https://www.atlasobscura.com/'+a\n",
    "            file= open(str(a)[8:]+'.html','w',encoding=\"UTF-8\")\n",
    "            with urlopen( url_ ) as webpage:\n",
    "                content = webpage.read().decode()\n",
    "            file.write(content)\n",
    "            file.close()\n",
    "        end_time = perf_counter()\n",
    "        final_time = end_time - start_time\n",
    "        if count not in times:\n",
    "            times[count]=final_time\n",
    "        os.chdir('..')\n",
    "        clean_cache()\n",
    "        "
   ]
  },
  {
   "cell_type": "code",
   "execution_count": null,
   "id": "3b240065-234b-44f0-9c55-65238921bb57",
   "metadata": {
    "tags": []
   },
   "outputs": [],
   "source": [
    "with open('times.txt','w') as d:\n",
    "    d.write(json.dumps(times))  "
   ]
  },
  {
   "cell_type": "code",
   "execution_count": null,
   "id": "6a6fedd8-31c4-4da8-8540-7fabcb22329e",
   "metadata": {},
   "outputs": [],
   "source": [
    "with open('times.txt') as d:\n",
    "    dictionary = d.read()\n",
    "times= json.loads(dictionary)    "
   ]
  },
  {
   "cell_type": "code",
   "execution_count": null,
   "id": "0f7b1e21-6fc7-40cd-9769-a3d8ea7bc839",
   "metadata": {
    "tags": []
   },
   "outputs": [],
   "source": [
    "def download_process(i):\n",
    "        url = f'https://www.atlasobscura.com/places?page={i}&sort=likes_count'\n",
    "        \n",
    "        reqs = requests.get(url)\n",
    "        soup = BeautifulSoup(reqs.text, 'html.parser')\n",
    "        os.makedirs('PAGE '+str(i)) # Creating a folder, its name is Page and the number of the page\n",
    "        os.chdir('PAGE '+str(i)) ## Go inside the directory just created\n",
    "       \n",
    "        for link in soup.find_all(class_=re.compile(\"content-card content-card-place\")):\n",
    "            a=(link.get('href'))\n",
    "            url_='https://www.atlasobscura.com/'+a\n",
    "            file= open(str(a)[8:]+'.html','w',encoding=\"UTF-8\") # craeting an html file in each link inside a page \n",
    "            with urlopen( url_ ) as webpage:\n",
    "                content = webpage.read().decode() # using urlopen to get html file of each place\n",
    "            file.write(content) # Writing the file just created\n",
    "            file.close() # closing \n",
    "        os.chdir('..') # going back to previous folder\n",
    "        \n",
    "\n",
    "        clean_cache() # clean cache \n",
    "\n",
    "    \n",
    "\n",
    "def multiprocessing_fun(N):\n",
    "    times_multiprocessing={}\n",
    "    for i in range(1,N+1):\n",
    "        start_time=perf_counter()\n",
    "        p=Process(target=download_process(i))\n",
    "        p.start()\n",
    "        count=i\n",
    "        end_time = perf_counter()\n",
    "        final_time = end_time - start_time\n",
    "        if count not in times_multiprocessing:\n",
    "            times_multiprocessing[count]=final_time\n",
    "        \n",
    "    with open('times_multi.txt','w') as d:\n",
    "        d.write(json.dumps(times_multiprocessing))\n",
    "        \n",
    "\n",
    "\n",
    "p = Pool(10)\n",
    "for i in range(2,3):\n",
    "    start_time=perf_counter()\n",
    "    p.map(download_process(i), range(1,2))\n",
    "    p.terminate()\n",
    "    p.join()\n",
    "    end_time = perf_counter()\n",
    "    final_time = end_time - start_time\n",
    "    \n",
    "\n"
   ]
  },
  {
   "cell_type": "code",
   "execution_count": 119,
   "id": "5c27b79d-800c-406a-a4dc-5dfdee780ff1",
   "metadata": {},
   "outputs": [
    {
     "data": {
      "text/plain": [
       "([<matplotlib.axis.XTick at 0x1aa7b8b5c70>,\n",
       "  <matplotlib.axis.XTick at 0x1aa7b8b5c40>,\n",
       "  <matplotlib.axis.XTick at 0x1aa7be3c790>,\n",
       "  <matplotlib.axis.XTick at 0x1aa7ba499d0>,\n",
       "  <matplotlib.axis.XTick at 0x1aa7ba49430>,\n",
       "  <matplotlib.axis.XTick at 0x1aa7b6a35e0>],\n",
       " [Text(0, 0, ''),\n",
       "  Text(0, 0, ''),\n",
       "  Text(0, 0, ''),\n",
       "  Text(0, 0, ''),\n",
       "  Text(0, 0, ''),\n",
       "  Text(0, 0, '')])"
      ]
     },
     "execution_count": 119,
     "metadata": {},
     "output_type": "execute_result"
    },
    {
     "data": {
      "image/png": "[encoded data removed]",
      "text/plain": [
       "<Figure size 640x480 with 1 Axes>"
      ]
     },
     "metadata": {},
     "output_type": "display_data"
    }
   ],
   "source": [
    "sbn.lineplot(times_,x=times_.keys(),y=times.values(),size=3)\n",
    "plt.xticks([0,9, 19, 29,39,49])\n",
    "\n"
   ]
  },
  {
   "cell_type": "markdown",
   "id": "95f5625e-d988-44a3-af32-0a617d503de5",
   "metadata": {
    "tags": []
   },
   "source": [
    "#### 1.3 Parse downloaded pages"
   ]
  },
  {
   "cell_type": "markdown",
   "id": "2d45947e-8b13-4014-8637-483df3f4bdd6",
   "metadata": {},
   "source": [
    "Now for each file into the corrisponding folder, we created a tsv file in the following format:\n",
    "\n",
    "We copied the format of each .tsv file from https://github.com/lucamaiano/ADM/tree/master/2022/Homework_3\n",
    "\n",
    "<br>Place Name (to save as placeName): String.\n",
    "<br>Place Tags (to save as placeTags): List of Strings.\n",
    "<br># of people who have been there (to save as numPeopleVisited): Integer.\n",
    "<br># of people who want to visit the place(to save as numPeopleWant): Integer.\n",
    "<br>Description (to save as placeDesc): String. Everything from under the first image up to \"know before you go\" (orange frame on the example image).\n",
    "<br>Short Description (to save as placeShortDesc): String. Everything from the title and location up to the image (blue frame on the example image).\n",
    "<br>Nearby Places (to save as placeNearby): Extract the names of all nearby places, but only keep unique values: List of Strings.\n",
    "<br>Address of the place(to save as placeAddress): String.\n",
    "<br>Latitud and Longitude of the place's location(to save as placeAlt and placeLong): Floats\n",
    "<br>The username of the post editors (to save as placeEditors): List of Strings.\n",
    "<br>Post publishing date (to save as placePubDate): datetime.\n",
    "<br>The names of the lists that the place was included in (to save as placeRelatedLists): List of Strings.\n",
    "<br>The names of the related places (to save as placeRelatedPlaces): List of Strings.\n",
    "<br>The URL of the page of the place (to save as placeURL):String\n"
   ]
  },
  {
   "cell_type": "code",
   "execution_count": null,
   "id": "679594bd-4261-4f4b-9ef5-c4a937a38a43",
   "metadata": {},
   "outputs": [],
   "source": [
    "for i in range(1,401): # Parse all the folders previously created\n",
    "    os.chdir('PAGE '+str(i)) #change directories\n",
    "    for filename in os.listdir(os.getcwd()): # get all the files in a folder\n",
    "        if filename.endswith(\".html\"): # if file extension is .html\n",
    "            with open(os.path.join(os.getcwd(), filename), 'r',encoding='utf-8') as f: ## open each file into a folder\n",
    "                soup = BeautifulSoup(f,'html.parser') # get the html file by each file \n",
    "                out=[] # initialize a list where we append all the informations parsed from each html file\n",
    "                tag=[] \n",
    "                \n",
    "                ## Using find_all(for classes of a tag) and select (selecting CSS selectors) we are able to get all the informations required from each place\n",
    "\n",
    "\n",
    "\n",
    "                [out.append(i.text) for i in soup.find_all(class_=re.compile(\"DDPage__header-title\"))] ## place name\n",
    "                [tag.append(i.text[1:-1]) for i in soup.find_all(class_=re.compile(\"itemTags__link js-item-tags-link\"))] #place tags\n",
    "                out.append(tag)\n",
    "                a=[int(i.text) for i in soup.find_all(class_=re.compile(\"title-md item-action-count\"))] # Number people wanted and number people visited\n",
    "                out.append(a[0])\n",
    "                out.append(a[1])\n",
    "                [out.append(i.text.replace('\\n',' ')[2:-2]) for i in soup.find_all(class_=re.compile(\"DDP__body-copy\"))] # description of a place\n",
    "                [out.append(i.text[:-1]) for i in soup.find_all(class_=re.compile(\"DDPage__header-dek\"))] # short description of a place\n",
    "                b=[(i.text.replace('\\n',' ')[1:-1]) for i in soup.find_all(class_=re.compile(\"DDPageSiderailRecirc__item-text\"))] # nearby place\n",
    "                out.append(b)\n",
    "                [out.append(i.text.replace('\\n','')) for i in soup.select('#place-container > div.DDPage__content-row.grid-row > div.DDPageSiderail__column.grid-col-lg-4.grid-col-md-5 > div.DDPageSiderail > aside.DDPageSiderail__details > address > div')]\n",
    "                ## line above address\n",
    "                c=[(i.text.replace('\\n','').split(',')) for i in soup.select('#place-container > div.DDPage__content-row.grid-row > div.DDPageSiderail__column.grid-col-lg-4.grid-col-md-5 > div.DDPageSiderail > aside.DDPageSiderail__details > div')]\n",
    "                out.append(float(c[0][0])) ## latitude\n",
    "                out.append(float(c[0][1])) ## longitude\n",
    "                cont=[]\n",
    "                [cont.append(i.text) for i in soup.select('#ugc-module > div > div:nth-child(2) > div.DDPContributorsList > a')] # editors\n",
    "                [cont.append(i.string) for i in soup.select('li>a>span') if i.string!=None] # editors\n",
    "                out.append(cont) \n",
    "                for i in soup.find_all(class_=re.compile('DDPContributor__name')): ## post publishing date\n",
    "                    time=(i.text.replace(',',''))\n",
    "                if isinstance(a,str)==True:\n",
    "                    time=(datetime.strptime(time,'%B %d %Y').date())\n",
    "                    out.append(time)\n",
    "                else:\n",
    "                    out.append(time)\n",
    "                lists=[]\n",
    "                [lists.append(i.text) for i in (soup.select('#page-content > article > div.vue-js-bte-place-parent.hidden-print.js-vue-component-wrap > div:nth-child(6) > div > div > div.card-grid.CardRecircSection__card-grid.js-inject-gtm-data-in-child-links>div>div>a>div>h3>span'))]\n",
    "                ##line above place related list\n",
    "                out.append(lists)\n",
    "                rel=[]\n",
    "                [rel.append(i.text) for i in (soup.select('#page-content > article > div.vue-js-bte-place-parent.hidden-print.js-vue-component-wrap > div:nth-child(4) > div > div > div.card-grid.CardRecircSection__card-grid.js-inject-gtm-data-in-child-links>div>div>a>div>h3>span'))]\n",
    "                ##line above place related places\n",
    "                out.append(rel)\n",
    "                \n",
    "                out.append(soup.find('link',{'rel':'canonical'})['href']) ## place url\n",
    "\n",
    "                f.close()\n",
    "                ## Creating file .tsv\n",
    "                l = ['placeName','placeTags','numPeopleVisited','numPeopleWant','placeDesc','placeShortDesc','placeNearby','placeAddress','placeAlt',\n",
    "                    'placeLong','placeEditors','placePubDate','placeRelatedLists','placeRelatedPlaces','placeURL']\n",
    "                with open(filename+'.tsv','w',encoding='utf-8') as tsv:\n",
    "                    tsv_output = csv.writer(tsv, delimiter='\\t')\n",
    "                    tsv_output.writerow(l)\n",
    "                    tsv_output.writerow(out)\n",
    "\n",
    "\n",
    "\n",
    "            \n",
    "    os.chdir('..')"
   ]
  },
  {
   "cell_type": "markdown",
   "id": "6064669e-20da-4a38-9b7a-9cbda6d8e527",
   "metadata": {},
   "source": [
    "We merge all of the .tsv files in all of the folders to one single .tsv file where this will be our final dataset"
   ]
  },
  {
   "cell_type": "code",
   "execution_count": null,
   "id": "c650373d-f92f-4a15-834a-c3d4a9be9fa1",
   "metadata": {},
   "outputs": [],
   "source": [
    "data=[]\n",
    "for i in range(1,401):\n",
    "    os.chdir('PAGE '+str(i))\n",
    "    for filename in os.listdir(os.getcwd()):\n",
    "        if filename.endswith(\".tsv\"):\n",
    "            a = pd.read_csv(filename,sep='\\t')\n",
    "            data.append(a)\n",
    "    os.chdir('..')\n",
    "data=pd.concat(data,ignore_index=True)     \n",
    "data.to_csv('Dataset.tsv',sep='\\t',index=False)"
   ]
  },
  {
   "cell_type": "markdown",
   "id": "139ef58a-e955-4711-8ed3-5c93f33ab1aa",
   "metadata": {
    "tags": []
   },
   "source": [
    "### 2. Search Engine"
   ]
  },
  {
   "cell_type": "markdown",
   "id": "1ea9ebe9-537e-49be-ba02-e49f5d91c763",
   "metadata": {},
   "source": [
    "#### 2.0. Pre-processing"
   ]
  },
  {
   "cell_type": "code",
   "execution_count": 72,
   "id": "4ee98056-e5c1-4dd8-8fd4-68ce21f90191",
   "metadata": {},
   "outputs": [],
   "source": [
    "dataset=pd.read_csv('Dataset.tsv', sep='\\t') # read the dataset"
   ]
  },
  {
   "cell_type": "code",
   "execution_count": 73,
   "id": "3bc074bf-af62-4575-a1c2-3436d0ea5b92",
   "metadata": {},
   "outputs": [],
   "source": [
    "# Now, we have the following problem:\n",
    "# in exercise 2.2, we were struggling with creating a certain variable, so we decided to create two columns.\n",
    "# In the first one, put all the processed words INSIDE A LIST.\n",
    "\n",
    "# So now we create a new column, filled by 'cleaned' descriptions (no punctuation, tokenization, lemmatization) inside LISTS.\n",
    "\n",
    "stopwords = stopwords.words('english')  # list of stopwords\n",
    "#print(stopwords)  # id you need to print the list of words you're going to delete\n",
    "#stopwords = stopwords.append('a')  # to add a stopword to the list\n",
    "\n",
    "lemmatizer = WordNetLemmatizer()\n",
    "processed = []\n",
    "dataset['Processed_list'] = None\n",
    "\n",
    "for index, row in dataset.iterrows():\n",
    "    small_processed = []\n",
    "    sentence = row['placeDesc'].lower()\n",
    "    sentence = re.sub(r'[^\\w\\s]', ' ', sentence)\n",
    "    words = nltk.word_tokenize(sentence)\n",
    "    words = [w for w in words if not w in stopwords]\n",
    "    for word in words:\n",
    "        small_processed.append(lemmatizer.lemmatize(word))    \n",
    "\n",
    "    processed.append(small_processed)\n",
    "    \n",
    "dataset['Processed_list'] = processed "
   ]
  },
  {
   "cell_type": "code",
   "execution_count": 74,
   "id": "b595796b-8a12-41da-9dd7-a661297e3c7c",
   "metadata": {},
   "outputs": [],
   "source": [
    "# In the second column we do the same extact thing, but inseatd of putting the words inside lists, we put them inside strings\n",
    "dataset['Processed_strings'] = None\n",
    "dataset['Processed_strings'] = [' '.join(map(str, l)) for l in dataset['Processed_list']]"
   ]
  },
  {
   "cell_type": "markdown",
   "id": "540e6ed8-f6c3-4ddf-b037-83867763baf7",
   "metadata": {},
   "source": [
    "#### Q2.1: Conjuntive query"
   ]
  },
  {
   "cell_type": "code",
   "execution_count": 75,
   "id": "993ca8c1-f3c3-4256-bade-3b0848f1c5b4",
   "metadata": {},
   "outputs": [],
   "source": [
    "# Now we can do the real 2.1.1)\n",
    "\n",
    "# What we need to do is to create a dictionary containing all the words of the description, where:\n",
    "# { key = word : value = [docs containing the word] }\n",
    "\n",
    "# So, first we crate a list containing all the processed words. Tod do it, we use the column Processed_list:\n",
    "\n",
    "all_words = []\n",
    "\n",
    "for index, row in dataset.iterrows():\n",
    "    for w in row['Processed_list']:\n",
    "        if w not in all_words:\n",
    "            all_words.append(w)"
   ]
  },
  {
   "cell_type": "markdown",
   "id": "40cb5323-4bd3-4d1f-b4e9-b1e74837f8c8",
   "metadata": {},
   "source": [
    "##### Q2.1.1: Create the inverted index\n",
    "Create a file named vocabulary, in the format you prefer, that maps each word to an integer (term_id)."
   ]
  },
  {
   "cell_type": "code",
   "execution_count": 76,
   "id": "78f09ea5-a1e3-45d3-a610-d87d9034c837",
   "metadata": {},
   "outputs": [],
   "source": [
    "# Create a dictionary in which we have -->  word:word_id  <--\n",
    "# This is useful because we will have to use word_id instead of words in the next points\n",
    "\n",
    "word_dict = {}\n",
    "item_id = 1\n",
    "for word in all_words:\n",
    "    word_dict[word] = item_id\n",
    "    item_id += 1 "
   ]
  },
  {
   "cell_type": "markdown",
   "id": "d817b12b-5349-44c2-9b3f-60a8ac8ad491",
   "metadata": {},
   "source": [
    "**The Inverted Index**\n",
    "<br>It will be a dictionary in this format:\n",
    ">{\n",
    "term_id_1:[document_1, document_2, document_4],\n",
    "<br>term_id_2:[document_1, document_3, document_5, document_6],\n",
    "...}\n",
    "<br>where document_i is the id of a document that contains that specific word."
   ]
  },
  {
   "cell_type": "code",
   "execution_count": null,
   "id": "2bddf290-8067-482f-b8b5-d19f0f24f381",
   "metadata": {},
   "outputs": [],
   "source": [
    "# We create the dictionary that we are going to save on a separate file\n",
    "\n",
    "# Once it runned, it is sufficient to load the file, as we will see in the next cells\n",
    "\n",
    "cont_docs_prova = {}\n",
    "\n",
    "for w, j in zip(word_dict.keys(), word_dict.values()):\n",
    "    lista = []\n",
    "    for words, idx in zip(dataset['Processed_list'], dataset.index):\n",
    "        if w in words:\n",
    "            lista.append(idx)\n",
    "    if w not in cont_docs_prova:\n",
    "        cont_docs_prova[j] = lista  \n",
    "        \n",
    "with open('dictionary_index.txt', 'w') as file_conv:\n",
    "    file_conv.write(json.dumps(cont_docs_prova))"
   ]
  },
  {
   "cell_type": "code",
   "execution_count": 77,
   "id": "ca1767df-2c3b-455c-a270-caa66183a5f9",
   "metadata": {},
   "outputs": [],
   "source": [
    "with open('dictionary_index.txt') as d:\n",
    "    dictionary = d.read()\n",
    "cont_docs = json.loads(dictionary)    "
   ]
  },
  {
   "cell_type": "markdown",
   "id": "58a1231e-f5a9-4634-aa9b-113f1c273990",
   "metadata": {},
   "source": [
    "##### Q2.1.2: Execute the query\n",
    "Given a query input by the user the Search Engine is supposed to return a list of documents."
   ]
  },
  {
   "cell_type": "code",
   "execution_count": 79,
   "id": "bc65fa07-f279-4b5f-8446-58f196aa9d19",
   "metadata": {},
   "outputs": [
    {
     "name": "stdin",
     "output_type": "stream",
     "text": [
      " art renaissance \n"
     ]
    },
    {
     "data": {
      "text/html": [
       "<div>\n",
       "<style scoped>\n",
       "    .dataframe tbody tr th:only-of-type {\n",
       "        vertical-align: middle;\n",
       "    }\n",
       "\n",
       "    .dataframe tbody tr th {\n",
       "        vertical-align: top;\n",
       "    }\n",
       "\n",
       "    .dataframe thead th {\n",
       "        text-align: right;\n",
       "    }\n",
       "</style>\n",
       "<table border=\"1\" class=\"dataframe\">\n",
       "  <thead>\n",
       "    <tr style=\"text-align: right;\">\n",
       "      <th></th>\n",
       "      <th>placeName</th>\n",
       "      <th>placeDesc</th>\n",
       "      <th>placeURL</th>\n",
       "    </tr>\n",
       "  </thead>\n",
       "  <tbody>\n",
       "    <tr>\n",
       "      <th>74</th>\n",
       "      <td>Bibliothèque nationale de France (National Lib...</td>\n",
       "      <td>The massive Bibliothèque nationale de France i...</td>\n",
       "      <td>https://www.atlasobscura.com/places/bibliotheq...</td>\n",
       "    </tr>\n",
       "    <tr>\n",
       "      <th>159</th>\n",
       "      <td>The Monsters of Bomarzo</td>\n",
       "      <td>The Park of the Monsters, or “Parco dei Mostri...</td>\n",
       "      <td>https://www.atlasobscura.com/places/the-monste...</td>\n",
       "    </tr>\n",
       "    <tr>\n",
       "      <th>245</th>\n",
       "      <td>The Mansion on O Street</td>\n",
       "      <td>The Mansion on O Street, near Dupont Circle in...</td>\n",
       "      <td>https://www.atlasobscura.com/places/mansion-o-...</td>\n",
       "    </tr>\n",
       "    <tr>\n",
       "      <th>619</th>\n",
       "      <td>Long Now Orrery</td>\n",
       "      <td>Inside the offices of the Long Now Foundation ...</td>\n",
       "      <td>https://www.atlasobscura.com/places/long-now-o...</td>\n",
       "    </tr>\n",
       "    <tr>\n",
       "      <th>894</th>\n",
       "      <td>Sir John Soane's Museum</td>\n",
       "      <td>Sir John Soane was an architect and dedicated ...</td>\n",
       "      <td>https://www.atlasobscura.com/places/sir-john-s...</td>\n",
       "    </tr>\n",
       "    <tr>\n",
       "      <th>1061</th>\n",
       "      <td>Zuccari Palace</td>\n",
       "      <td>In Rome there are thousands of churches, old b...</td>\n",
       "      <td>https://www.atlasobscura.com/places/zuccari-pa...</td>\n",
       "    </tr>\n",
       "    <tr>\n",
       "      <th>1288</th>\n",
       "      <td>Museum of Modern Renaissance</td>\n",
       "      <td>Located on a residential street in Somerville,...</td>\n",
       "      <td>https://www.atlasobscura.com/places/museum-of-...</td>\n",
       "    </tr>\n",
       "    <tr>\n",
       "      <th>1624</th>\n",
       "      <td>Dumbarton Oaks</td>\n",
       "      <td>This stunning estate with sprawling formal gar...</td>\n",
       "      <td>https://www.atlasobscura.com/places/dumbarton-...</td>\n",
       "    </tr>\n",
       "    <tr>\n",
       "      <th>1813</th>\n",
       "      <td>Medici Hall of Maps (Sala delle Carte Geografi...</td>\n",
       "      <td>When Giorgio Vasari undertook the restoration ...</td>\n",
       "      <td>https://www.atlasobscura.com/places/sala-delle...</td>\n",
       "    </tr>\n",
       "    <tr>\n",
       "      <th>2262</th>\n",
       "      <td>Millennium Biltmore Hotel</td>\n",
       "      <td>The Millennium Biltmore Hotel has hosted Holly...</td>\n",
       "      <td>https://www.atlasobscura.com/places/millennium...</td>\n",
       "    </tr>\n",
       "    <tr>\n",
       "      <th>2292</th>\n",
       "      <td>Hash Marijuana &amp; Hemp Museum Barcelona</td>\n",
       "      <td>Located in the heart of Barcelona’s Ciutat Vel...</td>\n",
       "      <td>https://www.atlasobscura.com/places/hash-marih...</td>\n",
       "    </tr>\n",
       "    <tr>\n",
       "      <th>2413</th>\n",
       "      <td>Basilica of Saint Lawrence, Asheville</td>\n",
       "      <td>The turn of the 20th century was a time of pro...</td>\n",
       "      <td>https://www.atlasobscura.com/places/basilica-o...</td>\n",
       "    </tr>\n",
       "    <tr>\n",
       "      <th>2551</th>\n",
       "      <td>Peleș Castle</td>\n",
       "      <td>When King Carol I of Romania visited the small...</td>\n",
       "      <td>https://www.atlasobscura.com/places/peles-castle</td>\n",
       "    </tr>\n",
       "    <tr>\n",
       "      <th>2721</th>\n",
       "      <td>Cave of Lascaux</td>\n",
       "      <td>Detailed anatomy and realistic perspective in ...</td>\n",
       "      <td>https://www.atlasobscura.com/places/cave-of-la...</td>\n",
       "    </tr>\n",
       "    <tr>\n",
       "      <th>2816</th>\n",
       "      <td>Pabst Mansion</td>\n",
       "      <td>Someone once looked at this beautiful 19th cen...</td>\n",
       "      <td>https://www.atlasobscura.com/places/pabst-mansion</td>\n",
       "    </tr>\n",
       "    <tr>\n",
       "      <th>3274</th>\n",
       "      <td>The Renaissance Society</td>\n",
       "      <td>You’ve probably never heard of the Renaissance...</td>\n",
       "      <td>https://www.atlasobscura.com/places/the-renais...</td>\n",
       "    </tr>\n",
       "    <tr>\n",
       "      <th>3507</th>\n",
       "      <td>Trick Eye Museum</td>\n",
       "      <td>Trompe l’oeil is a classical artistic techniqu...</td>\n",
       "      <td>https://www.atlasobscura.com/places/trick-eye-...</td>\n",
       "    </tr>\n",
       "    <tr>\n",
       "      <th>3562</th>\n",
       "      <td>Tempietto at San Pietro in Montorio</td>\n",
       "      <td>This small, round temple features a mix of cla...</td>\n",
       "      <td>https://www.atlasobscura.com/places/tempietto-...</td>\n",
       "    </tr>\n",
       "    <tr>\n",
       "      <th>4414</th>\n",
       "      <td>Santa Monica Camera Obscura</td>\n",
       "      <td>If the door is locked, knock on the wooden dut...</td>\n",
       "      <td>https://www.atlasobscura.com/places/camera-obs...</td>\n",
       "    </tr>\n",
       "    <tr>\n",
       "      <th>4594</th>\n",
       "      <td>Eltham Palace</td>\n",
       "      <td>Home to both kings and monkeys, this ancient p...</td>\n",
       "      <td>https://www.atlasobscura.com/places/eltham-palace</td>\n",
       "    </tr>\n",
       "    <tr>\n",
       "      <th>4674</th>\n",
       "      <td>Palacio Postal</td>\n",
       "      <td>The architecture of this jaw-dropping, century...</td>\n",
       "      <td>https://www.atlasobscura.com/places/palacio-po...</td>\n",
       "    </tr>\n",
       "    <tr>\n",
       "      <th>4763</th>\n",
       "      <td>Medieval Art Exhibit at the Ringling Museum</td>\n",
       "      <td>The Middle Ages tends to get a bad rap, consid...</td>\n",
       "      <td>https://www.atlasobscura.com/places/medieval-a...</td>\n",
       "    </tr>\n",
       "    <tr>\n",
       "      <th>4795</th>\n",
       "      <td>Ninfeo di Villa Litta</td>\n",
       "      <td>Built in 1589 to hold the art and fossils coll...</td>\n",
       "      <td>https://www.atlasobscura.com/places/ninfeo-di-...</td>\n",
       "    </tr>\n",
       "    <tr>\n",
       "      <th>4989</th>\n",
       "      <td>Iolani Palace</td>\n",
       "      <td>In 1882, the Kingdom of Hawai’i unveiled a new...</td>\n",
       "      <td>https://www.atlasobscura.com/places/iolani-palace</td>\n",
       "    </tr>\n",
       "    <tr>\n",
       "      <th>5267</th>\n",
       "      <td>Ospedale degli Innocenti (Hospital of the Inno...</td>\n",
       "      <td>Florence in the 1400s had a baby problem. Babi...</td>\n",
       "      <td>https://www.atlasobscura.com/places/ospedale-d...</td>\n",
       "    </tr>\n",
       "    <tr>\n",
       "      <th>5338</th>\n",
       "      <td>Parish Church of Santa Maria del Popolo</td>\n",
       "      <td>Often overlooked by tourists, the medieval Rom...</td>\n",
       "      <td>https://www.atlasobscura.com/places/parish-chu...</td>\n",
       "    </tr>\n",
       "    <tr>\n",
       "      <th>5701</th>\n",
       "      <td>The Hyde Park Vanderbilt Mansion</td>\n",
       "      <td>Described by Franklin D. Roosevelt as “a hideo...</td>\n",
       "      <td>https://www.atlasobscura.com/places/the-hyde-p...</td>\n",
       "    </tr>\n",
       "    <tr>\n",
       "      <th>5833</th>\n",
       "      <td>Cimitero delle Porte Sante (Sacred Doors Cemet...</td>\n",
       "      <td>Tucked behind the 1,000-year-old church of San...</td>\n",
       "      <td>https://www.atlasobscura.com/places/cimitero-d...</td>\n",
       "    </tr>\n",
       "    <tr>\n",
       "      <th>6363</th>\n",
       "      <td>Lucas Theatre</td>\n",
       "      <td>Originally owned by the theater director Arthu...</td>\n",
       "      <td>https://www.atlasobscura.com/places/lucas-theatre</td>\n",
       "    </tr>\n",
       "    <tr>\n",
       "      <th>6559</th>\n",
       "      <td>Kunstkammer Georg Laue</td>\n",
       "      <td>A passionate collector and art historian, Geor...</td>\n",
       "      <td>https://www.atlasobscura.com/places/kunstkamme...</td>\n",
       "    </tr>\n",
       "    <tr>\n",
       "      <th>6888</th>\n",
       "      <td>Scuola Grande di San Marco</td>\n",
       "      <td>Once one of the six “great schools” of Venice,...</td>\n",
       "      <td>https://www.atlasobscura.com/places/scuola-gra...</td>\n",
       "    </tr>\n",
       "    <tr>\n",
       "      <th>6895</th>\n",
       "      <td>Cave of the Moon</td>\n",
       "      <td>Don’t go looking for the bathroom in Armando R...</td>\n",
       "      <td>https://www.atlasobscura.com/places/cave-of-th...</td>\n",
       "    </tr>\n",
       "    <tr>\n",
       "      <th>7012</th>\n",
       "      <td>Palmanova Star Fort</td>\n",
       "      <td>During the 16th century the territory of Friul...</td>\n",
       "      <td>https://www.atlasobscura.com/places/palmanova-...</td>\n",
       "    </tr>\n",
       "    <tr>\n",
       "      <th>7074</th>\n",
       "      <td>Bailey Art Museum</td>\n",
       "      <td>Don’t go to Crockett, California’s Bailey Art ...</td>\n",
       "      <td>https://www.atlasobscura.com/places/bailey-art...</td>\n",
       "    </tr>\n",
       "    <tr>\n",
       "      <th>7087</th>\n",
       "      <td>Swedenborgian Church</td>\n",
       "      <td>With its exposed wooden beams, nature-themed d...</td>\n",
       "      <td>https://www.atlasobscura.com/places/swedenborg...</td>\n",
       "    </tr>\n",
       "    <tr>\n",
       "      <th>7103</th>\n",
       "      <td>Pinball Wizard</td>\n",
       "      <td>It isn’t much to look at from the outside. A l...</td>\n",
       "      <td>https://www.atlasobscura.com/places/pinball-wi...</td>\n",
       "    </tr>\n",
       "  </tbody>\n",
       "</table>\n",
       "</div>"
      ],
      "text/plain": [
       "                                              placeName  \\\n",
       "74    Bibliothèque nationale de France (National Lib...   \n",
       "159                             The Monsters of Bomarzo   \n",
       "245                             The Mansion on O Street   \n",
       "619                                     Long Now Orrery   \n",
       "894                             Sir John Soane's Museum   \n",
       "1061                                     Zuccari Palace   \n",
       "1288                       Museum of Modern Renaissance   \n",
       "1624                                     Dumbarton Oaks   \n",
       "1813  Medici Hall of Maps (Sala delle Carte Geografi...   \n",
       "2262                         Millennium Biltmore Hotel    \n",
       "2292             Hash Marijuana & Hemp Museum Barcelona   \n",
       "2413              Basilica of Saint Lawrence, Asheville   \n",
       "2551                                       Peleș Castle   \n",
       "2721                                    Cave of Lascaux   \n",
       "2816                                      Pabst Mansion   \n",
       "3274                            The Renaissance Society   \n",
       "3507                                   Trick Eye Museum   \n",
       "3562                Tempietto at San Pietro in Montorio   \n",
       "4414                        Santa Monica Camera Obscura   \n",
       "4594                                      Eltham Palace   \n",
       "4674                                     Palacio Postal   \n",
       "4763        Medieval Art Exhibit at the Ringling Museum   \n",
       "4795                              Ninfeo di Villa Litta   \n",
       "4989                                      Iolani Palace   \n",
       "5267  Ospedale degli Innocenti (Hospital of the Inno...   \n",
       "5338            Parish Church of Santa Maria del Popolo   \n",
       "5701                   The Hyde Park Vanderbilt Mansion   \n",
       "5833  Cimitero delle Porte Sante (Sacred Doors Cemet...   \n",
       "6363                                      Lucas Theatre   \n",
       "6559                             Kunstkammer Georg Laue   \n",
       "6888                         Scuola Grande di San Marco   \n",
       "6895                                   Cave of the Moon   \n",
       "7012                                Palmanova Star Fort   \n",
       "7074                                  Bailey Art Museum   \n",
       "7087                               Swedenborgian Church   \n",
       "7103                                     Pinball Wizard   \n",
       "\n",
       "                                              placeDesc  \\\n",
       "74    The massive Bibliothèque nationale de France i...   \n",
       "159   The Park of the Monsters, or “Parco dei Mostri...   \n",
       "245   The Mansion on O Street, near Dupont Circle in...   \n",
       "619   Inside the offices of the Long Now Foundation ...   \n",
       "894   Sir John Soane was an architect and dedicated ...   \n",
       "1061  In Rome there are thousands of churches, old b...   \n",
       "1288  Located on a residential street in Somerville,...   \n",
       "1624  This stunning estate with sprawling formal gar...   \n",
       "1813  When Giorgio Vasari undertook the restoration ...   \n",
       "2262  The Millennium Biltmore Hotel has hosted Holly...   \n",
       "2292  Located in the heart of Barcelona’s Ciutat Vel...   \n",
       "2413  The turn of the 20th century was a time of pro...   \n",
       "2551  When King Carol I of Romania visited the small...   \n",
       "2721  Detailed anatomy and realistic perspective in ...   \n",
       "2816  Someone once looked at this beautiful 19th cen...   \n",
       "3274  You’ve probably never heard of the Renaissance...   \n",
       "3507  Trompe l’oeil is a classical artistic techniqu...   \n",
       "3562  This small, round temple features a mix of cla...   \n",
       "4414  If the door is locked, knock on the wooden dut...   \n",
       "4594  Home to both kings and monkeys, this ancient p...   \n",
       "4674  The architecture of this jaw-dropping, century...   \n",
       "4763  The Middle Ages tends to get a bad rap, consid...   \n",
       "4795  Built in 1589 to hold the art and fossils coll...   \n",
       "4989  In 1882, the Kingdom of Hawai’i unveiled a new...   \n",
       "5267  Florence in the 1400s had a baby problem. Babi...   \n",
       "5338  Often overlooked by tourists, the medieval Rom...   \n",
       "5701  Described by Franklin D. Roosevelt as “a hideo...   \n",
       "5833  Tucked behind the 1,000-year-old church of San...   \n",
       "6363  Originally owned by the theater director Arthu...   \n",
       "6559  A passionate collector and art historian, Geor...   \n",
       "6888  Once one of the six “great schools” of Venice,...   \n",
       "6895  Don’t go looking for the bathroom in Armando R...   \n",
       "7012  During the 16th century the territory of Friul...   \n",
       "7074  Don’t go to Crockett, California’s Bailey Art ...   \n",
       "7087  With its exposed wooden beams, nature-themed d...   \n",
       "7103  It isn’t much to look at from the outside. A l...   \n",
       "\n",
       "                                               placeURL  \n",
       "74    https://www.atlasobscura.com/places/bibliotheq...  \n",
       "159   https://www.atlasobscura.com/places/the-monste...  \n",
       "245   https://www.atlasobscura.com/places/mansion-o-...  \n",
       "619   https://www.atlasobscura.com/places/long-now-o...  \n",
       "894   https://www.atlasobscura.com/places/sir-john-s...  \n",
       "1061  https://www.atlasobscura.com/places/zuccari-pa...  \n",
       "1288  https://www.atlasobscura.com/places/museum-of-...  \n",
       "1624  https://www.atlasobscura.com/places/dumbarton-...  \n",
       "1813  https://www.atlasobscura.com/places/sala-delle...  \n",
       "2262  https://www.atlasobscura.com/places/millennium...  \n",
       "2292  https://www.atlasobscura.com/places/hash-marih...  \n",
       "2413  https://www.atlasobscura.com/places/basilica-o...  \n",
       "2551   https://www.atlasobscura.com/places/peles-castle  \n",
       "2721  https://www.atlasobscura.com/places/cave-of-la...  \n",
       "2816  https://www.atlasobscura.com/places/pabst-mansion  \n",
       "3274  https://www.atlasobscura.com/places/the-renais...  \n",
       "3507  https://www.atlasobscura.com/places/trick-eye-...  \n",
       "3562  https://www.atlasobscura.com/places/tempietto-...  \n",
       "4414  https://www.atlasobscura.com/places/camera-obs...  \n",
       "4594  https://www.atlasobscura.com/places/eltham-palace  \n",
       "4674  https://www.atlasobscura.com/places/palacio-po...  \n",
       "4763  https://www.atlasobscura.com/places/medieval-a...  \n",
       "4795  https://www.atlasobscura.com/places/ninfeo-di-...  \n",
       "4989  https://www.atlasobscura.com/places/iolani-palace  \n",
       "5267  https://www.atlasobscura.com/places/ospedale-d...  \n",
       "5338  https://www.atlasobscura.com/places/parish-chu...  \n",
       "5701  https://www.atlasobscura.com/places/the-hyde-p...  \n",
       "5833  https://www.atlasobscura.com/places/cimitero-d...  \n",
       "6363  https://www.atlasobscura.com/places/lucas-theatre  \n",
       "6559  https://www.atlasobscura.com/places/kunstkamme...  \n",
       "6888  https://www.atlasobscura.com/places/scuola-gra...  \n",
       "6895  https://www.atlasobscura.com/places/cave-of-th...  \n",
       "7012  https://www.atlasobscura.com/places/palmanova-...  \n",
       "7074  https://www.atlasobscura.com/places/bailey-art...  \n",
       "7087  https://www.atlasobscura.com/places/swedenborg...  \n",
       "7103  https://www.atlasobscura.com/places/pinball-wi...  "
      ]
     },
     "execution_count": 79,
     "metadata": {},
     "output_type": "execute_result"
    }
   ],
   "source": [
    "query = input().lower().split()\n",
    "\n",
    "l=[]       \n",
    "for word in query:  # for every word inside the query\n",
    "    if word in word_dict.keys(): # we check the index of the word, stored in word_dict\n",
    "        l.append(cont_docs[str(word_dict[word])]) # we append the indexes of all the documents containing the word\n",
    "    else:\n",
    "        print('Sorry, no correspondence for word -->', word)    \n",
    "x = set.intersection(*map(set,l))  # we want the documents that contain all the ords of the query, so we use the intersection\n",
    "\n",
    "y = list(sorted(x))\n",
    "searchMap = dataset.iloc[y]\n",
    "search = dataset.iloc[y, [0, 4, -3]]\n",
    "search\n",
    "#dataset.iloc[y, [0, 4, -3]]  # select the columns\n",
    "#dataset.iloc[x, [0, 4, -3]]  # select the columns\n",
    "#search_for_map = x"
   ]
  },
  {
   "cell_type": "markdown",
   "id": "db517ef9-43c5-41b8-8b40-9219e63fa6ce",
   "metadata": {},
   "source": [
    "#### 2.2) Conjunctive query & Ranking score"
   ]
  },
  {
   "cell_type": "markdown",
   "id": "973f2f5c-e576-4542-b065-f9ed7f76006b",
   "metadata": {},
   "source": [
    "For the second search engine, given a query, we want to get the top-k (the choice of k it's up to you!) documents related to the query. In particular:\n",
    "\n",
    "  * Find all the documents that contain all the words in the query.\n",
    "  * Sort them by their similarity with the query.\n",
    "  * Return in output k documents, or all the documents with non-zero similarity with the query when the results are less than k. \n",
    "    <br> You must use a heap data structure (you can use Python libraries) for maintaining the top-k documents.\n",
    "\n",
    "To solve this task, you must use the tfIdf score and the Cosine similarity. The field to consider is still the placeDesc. Let's see how."
   ]
  },
  {
   "cell_type": "markdown",
   "id": "30c75e4b-edda-4303-bd17-80500e0506cd",
   "metadata": {
    "tags": []
   },
   "source": [
    "##### Q2.2.1: Inverted Index"
   ]
  },
  {
   "cell_type": "markdown",
   "id": "13152d8d-8dab-49c1-8f95-a6cd57d2ff29",
   "metadata": {},
   "source": [
    "The second Inverted Index must be of this format:\n",
    ">{\n",
    "<br>term_id_1:[(document1, tfIdf_{term,document1}), (document2, tfIdf_{term,document2}), (document4, tfIdf_{term,document4}), ...],\n",
    "<br>term_id_2:[(document1, tfIdf_{term,document1}), (document3, tfIdf_{term,document3}), (document5, tfIdf_{term,document5}), (document6, tfIdf_{term,document6}), ...],\n",
    "<br>...}\n",
    "\n",
    "TfIdf values are invariant for the query"
   ]
  },
  {
   "cell_type": "code",
   "execution_count": 81,
   "id": "786e7097-befa-42e7-8e34-f27b53d2fa84",
   "metadata": {
    "tags": []
   },
   "outputs": [
    {
     "name": "stdout",
     "output_type": "stream",
     "text": [
      "[[0.         0.         0.         ... 0.         0.         0.        ]\n",
      " [0.         0.         0.         ... 0.         0.         0.        ]\n",
      " [0.09535684 0.         0.         ... 0.         0.         0.        ]\n",
      " ...\n",
      " [0.         0.         0.         ... 0.         0.         0.        ]\n",
      " [0.         0.         0.         ... 0.         0.         0.        ]\n",
      " [0.         0.         0.         ... 0.         0.         0.        ]]\n",
      "*************************************************************************\n",
      "*************************************************************************\n",
      "(7200, 50695)\n"
     ]
    }
   ],
   "source": [
    "# Create matrices for each document.\n",
    "# Inside these matrices we have the tf-idf values\n",
    "\n",
    "tfidf = TfidfVectorizer(input='content', lowercase = False)\n",
    "result = tfidf.fit_transform(dataset['Processed_strings'])  # prima era place_Desc, non capisco perché ora ci metta così tanto tempo\n",
    "#results_dense_list = result_dense.tolist()\n",
    "array_tfidf = result.toarray()\n",
    "print(array_tfidf)\n",
    "print('*'*73)\n",
    "print('*'*73)\n",
    "print(array_tfidf.shape)"
   ]
  },
  {
   "cell_type": "code",
   "execution_count": 84,
   "id": "c1fc8b93-6253-4525-bd4a-75ccdd4ef5a9",
   "metadata": {},
   "outputs": [],
   "source": [
    "# We convert it into a pandas dataframe\n",
    "tfidf_df = pd.DataFrame(array_tfidf, index = dataset.index, columns = tfidf.get_feature_names_out())\n",
    "tfidf_df\n",
    "tfidf_transpose = tfidf_df.transpose()"
   ]
  },
  {
   "cell_type": "code",
   "execution_count": null,
   "id": "18b72f61-29e5-48c1-8482-986c9e9fc726",
   "metadata": {},
   "outputs": [],
   "source": [
    "### Creating the inverted index\n",
    "d={}\n",
    "for key,val in zip(word_dict.keys(),word_dict.values()):\n",
    "    l=[]\n",
    "    for i,j in zip(dataset.Processed_list,dataset.index):\n",
    "        if key in i and key in tfidf_df.columns:\n",
    "            t=[]\n",
    "            t.append(j)\n",
    "            t.append(tfidf_df.loc[j,key])\n",
    "            l.append(tuple(t))\n",
    "    d[val]=l\n",
    "with open('Inverted_Index.txt', 'w') as file_conv: ### Creating a file in order to store it\n",
    "    file_conv.write(json.dumps(cont_docs_prova))\n",
    "with open('Inverted_Index.txt') as d: ## read the file .txt\n",
    "    dictionary = d.read()\n",
    "inv_indx = json.loads(dictionary)    \n",
    "\n"
   ]
  },
  {
   "cell_type": "markdown",
   "id": "928c1f8b-ef34-47fd-9c66-649f135202ac",
   "metadata": {},
   "source": [
    "##### 2.2.2) Execute the query\n",
    "Given a query input by the user, the search engine is supposed to return a list of documents, ranked by their Cosine Similarity to the query entered in the input."
   ]
  },
  {
   "cell_type": "code",
   "execution_count": 85,
   "id": "ddaa0e16-f3d5-4194-b958-a400277daaed",
   "metadata": {},
   "outputs": [],
   "source": [
    "def query_CosSim_2(K):\n",
    "    with open('dictionary_index.txt','r') as d:\n",
    "        dictionary = d.read()\n",
    "        cont_docs = json.loads(dictionary)\n",
    "    \n",
    "    query=str(input()).lower()\n",
    "    \n",
    "    a=[query]\n",
    "    b=query.split()\n",
    "    vectorizer = TfidfVectorizer()\n",
    "    query_tfidf = vectorizer.fit_transform(a)\n",
    "    \n",
    "    l=[]\n",
    "    for i in b:\n",
    "        l.append(word_dict[(i)])\n",
    "    doc_query=[]\n",
    "    for i in l:\n",
    "        doc_query.append(cont_docs[str(i)])\n",
    "    doc_query1=[]\n",
    "    for i in doc_query:\n",
    "        for j in i:\n",
    "            doc_query1.append(j)\n",
    "    doc_query1=list(set(doc_query1))\n",
    "    \n",
    "    \n",
    "    if doc_query1==[]:\n",
    "        print('The query is not present in any document ')\n",
    "    else:\n",
    "        \n",
    "    \n",
    "        result = vectorizer.fit_transform(dataset['Processed_strings'].iloc[doc_query1])\n",
    "        array_tfidf = result.toarray()\n",
    "\n",
    "        tfidf_df = pd.DataFrame(array_tfidf, index = dataset['placeName'].iloc[doc_query1], columns = vectorizer.get_feature_names_out())\n",
    "\n",
    "        cosineSimilarities = cosine_similarity(query_tfidf, tfidf_df[b])\n",
    "\n",
    "        dfcs=pd.DataFrame(cosineSimilarities,index=a,columns=dataset['placeName'].iloc[doc_query1])\n",
    "        similarity=list(np.array(dfcs)[0])\n",
    "        x=dataset.iloc[doc_query1, [0, 4, -3]]\n",
    "        \n",
    "        x['similarity']=similarity\n",
    "        x=x.sort_values(by='similarity',ascending=False).head(K)\n",
    "        return x\n",
    "    "
   ]
  },
  {
   "cell_type": "code",
   "execution_count": 86,
   "id": "9a6d7ab3-8074-406a-9fa3-b751a3d90064",
   "metadata": {},
   "outputs": [
    {
     "name": "stdin",
     "output_type": "stream",
     "text": [
      " art renaissance \n"
     ]
    },
    {
     "data": {
      "text/html": [
       "<div>\n",
       "<style scoped>\n",
       "    .dataframe tbody tr th:only-of-type {\n",
       "        vertical-align: middle;\n",
       "    }\n",
       "\n",
       "    .dataframe tbody tr th {\n",
       "        vertical-align: top;\n",
       "    }\n",
       "\n",
       "    .dataframe thead th {\n",
       "        text-align: right;\n",
       "    }\n",
       "</style>\n",
       "<table border=\"1\" class=\"dataframe\">\n",
       "  <thead>\n",
       "    <tr style=\"text-align: right;\">\n",
       "      <th></th>\n",
       "      <th>placeName</th>\n",
       "      <th>placeDesc</th>\n",
       "      <th>placeURL</th>\n",
       "      <th>similarity</th>\n",
       "    </tr>\n",
       "  </thead>\n",
       "  <tbody>\n",
       "    <tr>\n",
       "      <th>4594</th>\n",
       "      <td>Eltham Palace</td>\n",
       "      <td>Home to both kings and monkeys, this ancient p...</td>\n",
       "      <td>https://www.atlasobscura.com/places/eltham-palace</td>\n",
       "      <td>0.997642</td>\n",
       "    </tr>\n",
       "    <tr>\n",
       "      <th>7074</th>\n",
       "      <td>Bailey Art Museum</td>\n",
       "      <td>Don’t go to Crockett, California’s Bailey Art ...</td>\n",
       "      <td>https://www.atlasobscura.com/places/bailey-art...</td>\n",
       "      <td>0.997642</td>\n",
       "    </tr>\n",
       "    <tr>\n",
       "      <th>4763</th>\n",
       "      <td>Medieval Art Exhibit at the Ringling Museum</td>\n",
       "      <td>The Middle Ages tends to get a bad rap, consid...</td>\n",
       "      <td>https://www.atlasobscura.com/places/medieval-a...</td>\n",
       "      <td>0.997214</td>\n",
       "    </tr>\n",
       "    <tr>\n",
       "      <th>2721</th>\n",
       "      <td>Cave of Lascaux</td>\n",
       "      <td>Detailed anatomy and realistic perspective in ...</td>\n",
       "      <td>https://www.atlasobscura.com/places/cave-of-la...</td>\n",
       "      <td>0.983424</td>\n",
       "    </tr>\n",
       "    <tr>\n",
       "      <th>4414</th>\n",
       "      <td>Santa Monica Camera Obscura</td>\n",
       "      <td>If the door is locked, knock on the wooden dut...</td>\n",
       "      <td>https://www.atlasobscura.com/places/camera-obs...</td>\n",
       "      <td>0.966600</td>\n",
       "    </tr>\n",
       "    <tr>\n",
       "      <th>6363</th>\n",
       "      <td>Lucas Theatre</td>\n",
       "      <td>Originally owned by the theater director Arthu...</td>\n",
       "      <td>https://www.atlasobscura.com/places/lucas-theatre</td>\n",
       "      <td>0.966600</td>\n",
       "    </tr>\n",
       "    <tr>\n",
       "      <th>7087</th>\n",
       "      <td>Swedenborgian Church</td>\n",
       "      <td>With its exposed wooden beams, nature-themed d...</td>\n",
       "      <td>https://www.atlasobscura.com/places/swedenborg...</td>\n",
       "      <td>0.966600</td>\n",
       "    </tr>\n",
       "    <tr>\n",
       "      <th>2551</th>\n",
       "      <td>Peleș Castle</td>\n",
       "      <td>When King Carol I of Romania visited the small...</td>\n",
       "      <td>https://www.atlasobscura.com/places/peles-castle</td>\n",
       "      <td>0.966600</td>\n",
       "    </tr>\n",
       "    <tr>\n",
       "      <th>5833</th>\n",
       "      <td>Cimitero delle Porte Sante (Sacred Doors Cemet...</td>\n",
       "      <td>Tucked behind the 1,000-year-old church of San...</td>\n",
       "      <td>https://www.atlasobscura.com/places/cimitero-d...</td>\n",
       "      <td>0.966600</td>\n",
       "    </tr>\n",
       "    <tr>\n",
       "      <th>2413</th>\n",
       "      <td>Basilica of Saint Lawrence, Asheville</td>\n",
       "      <td>The turn of the 20th century was a time of pro...</td>\n",
       "      <td>https://www.atlasobscura.com/places/basilica-o...</td>\n",
       "      <td>0.966600</td>\n",
       "    </tr>\n",
       "  </tbody>\n",
       "</table>\n",
       "</div>"
      ],
      "text/plain": [
       "                                              placeName  \\\n",
       "4594                                      Eltham Palace   \n",
       "7074                                  Bailey Art Museum   \n",
       "4763        Medieval Art Exhibit at the Ringling Museum   \n",
       "2721                                    Cave of Lascaux   \n",
       "4414                        Santa Monica Camera Obscura   \n",
       "6363                                      Lucas Theatre   \n",
       "7087                               Swedenborgian Church   \n",
       "2551                                       Peleș Castle   \n",
       "5833  Cimitero delle Porte Sante (Sacred Doors Cemet...   \n",
       "2413              Basilica of Saint Lawrence, Asheville   \n",
       "\n",
       "                                              placeDesc  \\\n",
       "4594  Home to both kings and monkeys, this ancient p...   \n",
       "7074  Don’t go to Crockett, California’s Bailey Art ...   \n",
       "4763  The Middle Ages tends to get a bad rap, consid...   \n",
       "2721  Detailed anatomy and realistic perspective in ...   \n",
       "4414  If the door is locked, knock on the wooden dut...   \n",
       "6363  Originally owned by the theater director Arthu...   \n",
       "7087  With its exposed wooden beams, nature-themed d...   \n",
       "2551  When King Carol I of Romania visited the small...   \n",
       "5833  Tucked behind the 1,000-year-old church of San...   \n",
       "2413  The turn of the 20th century was a time of pro...   \n",
       "\n",
       "                                               placeURL  similarity  \n",
       "4594  https://www.atlasobscura.com/places/eltham-palace    0.997642  \n",
       "7074  https://www.atlasobscura.com/places/bailey-art...    0.997642  \n",
       "4763  https://www.atlasobscura.com/places/medieval-a...    0.997214  \n",
       "2721  https://www.atlasobscura.com/places/cave-of-la...    0.983424  \n",
       "4414  https://www.atlasobscura.com/places/camera-obs...    0.966600  \n",
       "6363  https://www.atlasobscura.com/places/lucas-theatre    0.966600  \n",
       "7087  https://www.atlasobscura.com/places/swedenborg...    0.966600  \n",
       "2551   https://www.atlasobscura.com/places/peles-castle    0.966600  \n",
       "5833  https://www.atlasobscura.com/places/cimitero-d...    0.966600  \n",
       "2413  https://www.atlasobscura.com/places/basilica-o...    0.966600  "
      ]
     },
     "execution_count": 86,
     "metadata": {},
     "output_type": "execute_result"
    }
   ],
   "source": [
    "query_CosSim_2(10)"
   ]
  },
  {
   "cell_type": "markdown",
   "id": "63a9cdc5-2e87-498b-886d-4d491dc3c7f2",
   "metadata": {},
   "source": [
    "#### 3. Define a new score!"
   ]
  },
  {
   "cell_type": "markdown",
   "id": "a86ebca7-d1f0-44a1-9578-5532c8fb687c",
   "metadata": {},
   "source": [
    "Taking advantage of the fact that a user can enter more than one input, we ask them for their location. This can indicate the current location or the one of a possible accommodation during a trip.\n",
    "<br>In fact, we want to recommend destinations to the user that match their search but are also closer to their location. \n",
    "<br>To do this, we use the input address to obtain the latitude and longitude, and then calculate the distance with the places identified by the search engine we defined earlier.\n",
    "<br>In addition, taking advantage of the columns numPeoplevisited and numberPeopleWant, we create a popularity index. We assigned different weights to the two variables (0.7 and 0.3), \n",
    "<bR>giving greater importance to numPeoplevisited , as we believe that actual visits are more indicative than planned visits.\n",
    "\n",
    "<br>At this point, we decided to normalize the popularity index back to a value between 0 and 1. We did not do the same operation on distance. \n",
    "<br>In fact, by normalizing both variables we could have gotten more distant places just by having higher similarity or popularity. Our choice, however, was to reward closer places.\n",
    "\n",
    " $New Score = \\left(\\dfrac{CosineSimilarity}{Distance}\\times Popularity \\right)$\n",
    "\n",
    "Now we apllies the normalization to **Popularity**\n",
    "*    $Popularity_{Norm} = \\left(\\dfrac{Popularity-Popularity_{min} }{Popularity_{max}-Popularity_{min}} \\right)$\n",
    "\n",
    "<br>So the **NewScore** will be :\n",
    "* $New Score = \\left(\\dfrac{CosineSimilarity}{Distance}\\times Popularity_{Norm}\\right)$\n",
    "\n"
   ]
  },
  {
   "cell_type": "code",
   "execution_count": 87,
   "id": "c84ee747-60a2-4f28-beb7-21597c08284d",
   "metadata": {},
   "outputs": [],
   "source": [
    "def query_NewScore(k):\n",
    "    with open('dictionary_index.txt','r') as d:\n",
    "            dictionary = d.read()\n",
    "            cont_docs = json.loads(dictionary)\n",
    "\n",
    "    query=str(input('Insert a query')).lower()\n",
    "\n",
    "    address=str(input('Insert an address in the following format: street,house number, town'))\n",
    "\n",
    "    a=[query]\n",
    "    b=query.split()\n",
    "    vectorizer = TfidfVectorizer()\n",
    "    query_tfidf = vectorizer.fit_transform(a)\n",
    "\n",
    "    l=[]\n",
    "    for i in b:\n",
    "            l.append(word_dict[(i)])\n",
    "    doc_query=[]\n",
    "    for i in l:\n",
    "            doc_query.append(cont_docs[str(i)])\n",
    "    doc_query1=[]\n",
    "    for i in doc_query:\n",
    "        for j in i:\n",
    "            doc_query1.append(j)\n",
    "    doc_query1=list(set(doc_query1))\n",
    "\n",
    "\n",
    "    if doc_query1==[]:\n",
    "        print('The query is not present in any document ')\n",
    "    else:\n",
    "\n",
    "\n",
    "            result = vectorizer.fit_transform(dataset['Processed_strings'].iloc[doc_query1])\n",
    "            array_tfidf = result.toarray()\n",
    "\n",
    "            tfidf_df = pd.DataFrame(array_tfidf, index = dataset['placeName'].iloc[doc_query1], columns = vectorizer.get_feature_names_out())\n",
    "\n",
    "            cosineSimilarities = cosine_similarity(query_tfidf, tfidf_df[b])\n",
    "\n",
    "            dfcs=pd.DataFrame(cosineSimilarities,index=a,columns=dataset['placeName'].iloc[doc_query1])\n",
    "            similarity=list(np.array(dfcs)[0])\n",
    "            x=dataset.iloc[doc_query1]\n",
    "            x['similarity']=similarity\n",
    "            \n",
    "            \n",
    "            url = 'https://nominatim.openstreetmap.org/search/' + urllib.parse.quote(address) +'?format=json'\n",
    "            response = requests.get(url).json()\n",
    "            lat=(response[0]['lat'])\n",
    "            lon=(response[0]['lon'])\n",
    "            loc=(float(lat),float(lon))\n",
    "            loc\n",
    "\n",
    "            locs=x.iloc[:,[8,9]].values\n",
    "            lista=[]\n",
    "            for i in locs:\n",
    "                lista.append(tuple(i))\n",
    "            x['Loc']=lista\n",
    "            dist=[]\n",
    "            for i in x.Loc.values:\n",
    "                dist.append(round(hv.haversine(loc,i),2))\n",
    "            x['distance']=dist\n",
    "            #x['distance']=abs(0.05-(x['distance'] - np.min(x['distance']))/(np.max(x['distance']-np.min(x['distance']))))\n",
    "            pop=x.iloc[:,[2,3]].values\n",
    "            x['popularity']=(0.7*x.iloc[:,2]+0.3*x.iloc[:,3])\n",
    "            x['popularity']=abs(0.05-(x['popularity'] - np.min(x['popularity']))/(np.max(x['popularity']-np.min(x['popularity']))))\n",
    "            x['score']=x.popularity*x.similarity/x.distance\n",
    "            search_map=x\n",
    "            return x\n",
    "        \n",
    "            #return(x.iloc[:,[0,4,7,-8,-1]].sort_values(by='score',ascending=False).head(k))"
   ]
  },
  {
   "cell_type": "code",
   "execution_count": 89,
   "id": "4c56d04b-3eea-4ed1-9a6c-c4bfe279939c",
   "metadata": {},
   "outputs": [
    {
     "name": "stdin",
     "output_type": "stream",
     "text": [
      "Insert a query art renaissance\n",
      "Insert an address in the following format: street,house number, town Cattedrale di Santa Maria del Fiore\n"
     ]
    },
    {
     "data": {
      "text/html": [
       "<div>\n",
       "<style scoped>\n",
       "    .dataframe tbody tr th:only-of-type {\n",
       "        vertical-align: middle;\n",
       "    }\n",
       "\n",
       "    .dataframe tbody tr th {\n",
       "        vertical-align: top;\n",
       "    }\n",
       "\n",
       "    .dataframe thead th {\n",
       "        text-align: right;\n",
       "    }\n",
       "</style>\n",
       "<table border=\"1\" class=\"dataframe\">\n",
       "  <thead>\n",
       "    <tr style=\"text-align: right;\">\n",
       "      <th></th>\n",
       "      <th>placeName</th>\n",
       "      <th>placeDesc</th>\n",
       "      <th>placeAddress</th>\n",
       "      <th>placeURL</th>\n",
       "      <th>score</th>\n",
       "    </tr>\n",
       "  </thead>\n",
       "  <tbody>\n",
       "    <tr>\n",
       "      <th>1813</th>\n",
       "      <td>Medici Hall of Maps (Sala delle Carte Geografi...</td>\n",
       "      <td>When Giorgio Vasari undertook the restoration ...</td>\n",
       "      <td>Palazzo VecchioPiazza della Signoria Florence,...</td>\n",
       "      <td>https://www.atlasobscura.com/places/sala-delle...</td>\n",
       "      <td>0.148576</td>\n",
       "    </tr>\n",
       "    <tr>\n",
       "      <th>6834</th>\n",
       "      <td>Museo Opificio delle Pietre Dure</td>\n",
       "      <td>Pietre dure is the art of using the natural va...</td>\n",
       "      <td>76 Via degli AlfaniFlorenceItaly</td>\n",
       "      <td>https://www.atlasobscura.com/places/museo-opif...</td>\n",
       "      <td>0.070443</td>\n",
       "    </tr>\n",
       "    <tr>\n",
       "      <th>5267</th>\n",
       "      <td>Ospedale degli Innocenti (Hospital of the Inno...</td>\n",
       "      <td>Florence in the 1400s had a baby problem. Babi...</td>\n",
       "      <td>Piazza SS. AnnunziataFlorence, 50121Italy</td>\n",
       "      <td>https://www.atlasobscura.com/places/ospedale-d...</td>\n",
       "      <td>0.065215</td>\n",
       "    </tr>\n",
       "    <tr>\n",
       "      <th>3825</th>\n",
       "      <td>Studiolo Francesco I de’ Medici</td>\n",
       "      <td>A small room in Palazzo Vecchio in Florence, I...</td>\n",
       "      <td>Palazzo VecchioPiazza Della SignoriaFlorence, ...</td>\n",
       "      <td>https://www.atlasobscura.com/places/studiolo-f...</td>\n",
       "      <td>0.053185</td>\n",
       "    </tr>\n",
       "    <tr>\n",
       "      <th>5833</th>\n",
       "      <td>Cimitero delle Porte Sante (Sacred Doors Cemet...</td>\n",
       "      <td>Tucked behind the 1,000-year-old church of San...</td>\n",
       "      <td>34 Via delle Porte SanteFlorence, 50125Italy</td>\n",
       "      <td>https://www.atlasobscura.com/places/cimitero-d...</td>\n",
       "      <td>0.015581</td>\n",
       "    </tr>\n",
       "    <tr>\n",
       "      <th>4867</th>\n",
       "      <td>La Specola Zoological Museum</td>\n",
       "      <td>Beyond the tourist-swarmed Ponte Vecchio, a fl...</td>\n",
       "      <td>17 Via RomanaFlorenceItaly</td>\n",
       "      <td>https://www.atlasobscura.com/places/la-specola...</td>\n",
       "      <td>0.007680</td>\n",
       "    </tr>\n",
       "    <tr>\n",
       "      <th>808</th>\n",
       "      <td>The Colossus of Villa Demidoff</td>\n",
       "      <td>The beauty and mystery of renaissance gardens ...</td>\n",
       "      <td>768D Via di San JacopoVaglia, 50036Italy</td>\n",
       "      <td>https://www.atlasobscura.com/places/villa-demi...</td>\n",
       "      <td>0.002597</td>\n",
       "    </tr>\n",
       "    <tr>\n",
       "      <th>6640</th>\n",
       "      <td>Towers of San Gimignano</td>\n",
       "      <td>In the age of the Renaissance, Tuscany was the...</td>\n",
       "      <td>Piazza Duomo, 2San Gimignano, 53037Italy</td>\n",
       "      <td>https://www.atlasobscura.com/places/towers-san...</td>\n",
       "      <td>0.001928</td>\n",
       "    </tr>\n",
       "    <tr>\n",
       "      <th>3204</th>\n",
       "      <td>Babae Wine Window</td>\n",
       "      <td>In Florence’s Santo Spirito neighborhood, you ...</td>\n",
       "      <td>Via Santo Spirito21RFlorence, 50125Italy</td>\n",
       "      <td>https://www.atlasobscura.com/places/babae-wine...</td>\n",
       "      <td>0.001730</td>\n",
       "    </tr>\n",
       "    <tr>\n",
       "      <th>159</th>\n",
       "      <td>The Monsters of Bomarzo</td>\n",
       "      <td>The Park of the Monsters, or “Parco dei Mostri...</td>\n",
       "      <td>101 Via Madonna della ValleBomarzo, 01020Italy</td>\n",
       "      <td>https://www.atlasobscura.com/places/the-monste...</td>\n",
       "      <td>0.000914</td>\n",
       "    </tr>\n",
       "  </tbody>\n",
       "</table>\n",
       "</div>"
      ],
      "text/plain": [
       "                                              placeName  \\\n",
       "1813  Medici Hall of Maps (Sala delle Carte Geografi...   \n",
       "6834                   Museo Opificio delle Pietre Dure   \n",
       "5267  Ospedale degli Innocenti (Hospital of the Inno...   \n",
       "3825                    Studiolo Francesco I de’ Medici   \n",
       "5833  Cimitero delle Porte Sante (Sacred Doors Cemet...   \n",
       "4867                       La Specola Zoological Museum   \n",
       "808                      The Colossus of Villa Demidoff   \n",
       "6640                            Towers of San Gimignano   \n",
       "3204                                  Babae Wine Window   \n",
       "159                             The Monsters of Bomarzo   \n",
       "\n",
       "                                              placeDesc  \\\n",
       "1813  When Giorgio Vasari undertook the restoration ...   \n",
       "6834  Pietre dure is the art of using the natural va...   \n",
       "5267  Florence in the 1400s had a baby problem. Babi...   \n",
       "3825  A small room in Palazzo Vecchio in Florence, I...   \n",
       "5833  Tucked behind the 1,000-year-old church of San...   \n",
       "4867  Beyond the tourist-swarmed Ponte Vecchio, a fl...   \n",
       "808   The beauty and mystery of renaissance gardens ...   \n",
       "6640  In the age of the Renaissance, Tuscany was the...   \n",
       "3204  In Florence’s Santo Spirito neighborhood, you ...   \n",
       "159   The Park of the Monsters, or “Parco dei Mostri...   \n",
       "\n",
       "                                           placeAddress  \\\n",
       "1813  Palazzo VecchioPiazza della Signoria Florence,...   \n",
       "6834                   76 Via degli AlfaniFlorenceItaly   \n",
       "5267          Piazza SS. AnnunziataFlorence, 50121Italy   \n",
       "3825  Palazzo VecchioPiazza Della SignoriaFlorence, ...   \n",
       "5833       34 Via delle Porte SanteFlorence, 50125Italy   \n",
       "4867                         17 Via RomanaFlorenceItaly   \n",
       "808            768D Via di San JacopoVaglia, 50036Italy   \n",
       "6640           Piazza Duomo, 2San Gimignano, 53037Italy   \n",
       "3204           Via Santo Spirito21RFlorence, 50125Italy   \n",
       "159      101 Via Madonna della ValleBomarzo, 01020Italy   \n",
       "\n",
       "                                               placeURL     score  \n",
       "1813  https://www.atlasobscura.com/places/sala-delle...  0.148576  \n",
       "6834  https://www.atlasobscura.com/places/museo-opif...  0.070443  \n",
       "5267  https://www.atlasobscura.com/places/ospedale-d...  0.065215  \n",
       "3825  https://www.atlasobscura.com/places/studiolo-f...  0.053185  \n",
       "5833  https://www.atlasobscura.com/places/cimitero-d...  0.015581  \n",
       "4867  https://www.atlasobscura.com/places/la-specola...  0.007680  \n",
       "808   https://www.atlasobscura.com/places/villa-demi...  0.002597  \n",
       "6640  https://www.atlasobscura.com/places/towers-san...  0.001928  \n",
       "3204  https://www.atlasobscura.com/places/babae-wine...  0.001730  \n",
       "159   https://www.atlasobscura.com/places/the-monste...  0.000914  "
      ]
     },
     "execution_count": 89,
     "metadata": {},
     "output_type": "execute_result"
    }
   ],
   "source": [
    "pd.options.mode.chained_assignment = None  # default='warn'\n",
    "var=query_NewScore(10)\n",
    "var.iloc[:,[0,4,7,-8,-1]].sort_values(by='score',ascending=False).head(10)"
   ]
  },
  {
   "cell_type": "markdown",
   "id": "e5822606-3fa2-41ad-a3df-648e54979051",
   "metadata": {},
   "source": [
    "#### 4. Visualizing the most relevant places"
   ]
  },
  {
   "cell_type": "code",
   "execution_count": null,
   "id": "922dc802-edb3-499f-893c-94b503d8417f",
   "metadata": {},
   "outputs": [],
   "source": [
    "# So we want to visualize the places we found in the search engine:\n",
    "# NOTE: the column name is placeAlt, but obviously it refers to the Latitude\n",
    "\n",
    "import plotly.express as px\n",
    "import plotly.graph_objects as go\n",
    "\n",
    "# NOTE 2: we are using thr dataset of places obtained by the query\n",
    "\n",
    "#dataset.rename(columns = {'placeAlt':'Latitude', 'placeLong':'Longitude', 'placeAddress':'Address'}, inplace = True) # we rename some column names, just for a cooler representation\n",
    "\n",
    "fig = px.scatter_mapbox(searchMap, lat=\"placeAlt\", lon=\"placeLong\", hover_name=\"placeName\", hover_data=[\"numPeopleVisited\", \"placeAddress\"], \n",
    "                        labels = {'numPeopleWant':'Number of people who want to visits', 'numPeopleVisited':'Number of visits', \"placeAlt\":'Latitude', \"placeLong\":'Longitude', 'placeAddress':'Address'},\n",
    "                        color=\"numPeopleVisited\", color_continuous_scale = 'tealrose' , size=\"numPeopleWant\", zoom=2, height=300)\n",
    "fig.update_layout(mapbox_style=\"open-street-map\")\n",
    "\n",
    "#fig.add_trace(mode = \"markers+lines\")\n",
    "\n",
    "fig.show()"
   ]
  },
  {
   "cell_type": "markdown",
   "id": "4ac9b8b5-9911-4557-82d5-f4957ee99a4b",
   "metadata": {
    "tags": []
   },
   "source": [
    "###  Theoretical question"
   ]
  },
  {
   "cell_type": "markdown",
   "id": "85d4a81a-4f99-4c5c-a192-f4ed5369366a",
   "metadata": {
    "tags": []
   },
   "source": [
    "##### BUBBLE-SORT"
   ]
  },
  {
   "cell_type": "markdown",
   "id": "fe54263e-c6ed-47be-b6ec-b515ec532d80",
   "metadata": {},
   "source": [
    "The Bubble Sort algorithm is one of the simplest sorting algorithm. It basically works by swapping one element with his adiacent one if they are not in a correct  order.\n",
    "<br>This sorting algorithm is not really good for large data beacuse its time-complexitity is pretty high.\n",
    "<br>It means that if you have 1000 items, this does 100^2 = 1,000,000 units of work.\n"
   ]
  },
  {
   "cell_type": "markdown",
   "id": "adb11c35-5a79-4e05-a30c-d2fc2220c8b4",
   "metadata": {},
   "source": [
    "##### How this algorithm work"
   ]
  },
  {
   "cell_type": "markdown",
   "id": "e8baa797-2a8b-48e4-8298-153c16a8a787",
   "metadata": {},
   "source": [
    "Let's assume this input : array=[4,6,8,4,6,7]"
   ]
  },
  {
   "cell_type": "markdown",
   "id": "df45a1eb-7111-414b-ab5c-27598433c6d6",
   "metadata": {},
   "source": [
    "First Step\n",
    "<br>(4,6,8,4,6,7) -----> (6,4,8,4,6,7) swap 4 and 6 since 6>4\n",
    "<br>(6,4,8,4,6,7) -----> (6,8,4,4,6,7) swap 8 and 4 since 8>4\n",
    "<br>(6,8,4,4,6,7) -----> (6,8,4,4,6,7) no swap 4 = 4\n",
    "<br>(6,8,4,4,6,7) -----> (6,8,4,6,4,7) swap 6 and 4 since 6>4\n",
    "<br>(6,8,4,6,4,7) -----> (6,8,4,6,7,4) swap 7 and 4 since 7>4"
   ]
  },
  {
   "cell_type": "markdown",
   "id": "7f894b15-e29a-432c-a403-f2ad1eff75d7",
   "metadata": {},
   "source": [
    "Second step\n",
    "<br>(6,8,4,6,7,4) -----> (8,6,4,6,7,4) swap 8 and 6 since 8>6\n",
    "<br>(8,6,4,6,7,4) -----> (8,6,4,6,7,4) no swap since 4<6\n",
    "<br>(8,6,4,6,7,4) -----> (8,6,6,4,7,4) swap 6 and 4 since 6>4\n",
    "<br>(8,6,6,4,7,4) -----> (8,6,6,7,4,4) swap 7 and 4 since 7 > 4\n",
    "<br>(8,6,6,7,4,4) -----> (8,6,6,7,4,4) no swap since 4=4"
   ]
  },
  {
   "cell_type": "markdown",
   "id": "d271ac33-1056-451d-80c9-0780da7fd907",
   "metadata": {},
   "source": [
    "Third step\n",
    "<br>(8,6,6,7,4,4) -----> (8,6,6,7,4,4) no swap since 6<8\n",
    "<br>(8,6,6,7,4,4) -----> (8,6,6,7,4,4) no swap since 6=6\n",
    "<br>(8,6,6,7,4,4) -----> (8,6,7,6,4,4) swap 7 and 6 since 7>6\n",
    "<br>(8,6,7,6,4,4) -----> (8,6,7,6,4,4) no swap since 4<6\n",
    "<br>(8,6,7,6,4,4) -----> (8,6,7,6,4,4) no swap since 4=4"
   ]
  },
  {
   "cell_type": "markdown",
   "id": "9cec2c4b-a971-4804-ba7d-45a706858764",
   "metadata": {},
   "source": [
    "Fourth step\n",
    "<br>(8,6,7,6,4,4) -----> (8,6,7,6,4,4) no swap since 6<8\n",
    "<br>(8,6,7,6,4,4) -----> (8,7,6,6,4,4) swap 7 and 6 since 7>6\n",
    "<br>(8,7,6,6,4,4) -----> (8,7,6,6,4,4) no swap since 6=6\n",
    "<br>(8,7,6,6,4,4) -----> (8,7,6,6,4,4) no swap since 4<6\n",
    "<br>(8,7,6,6,4,4) -----> (8,7,6,6,4,4) no swap since 4 = 4"
   ]
  },
  {
   "cell_type": "markdown",
   "id": "a718f2a3-e0f2-4e37-baa8-624ed676f8de",
   "metadata": {},
   "source": [
    "Although the array is already sorted, the algorithm needs a swap-free pass in order to be completed"
   ]
  },
  {
   "cell_type": "markdown",
   "id": "9fe5e51f-31e1-47cb-9545-060e67ab7ff3",
   "metadata": {},
   "source": [
    "Fifth Step\n",
    "<br>(8,7,6,6,4,4) -----> (8,7,6,6,4,4) no swap since 6<8\n",
    "<br>(8,7,6,6,4,4) -----> (8,7,6,6,4,4) no swap since 6<7\n",
    "<br>(8,7,6,6,4,4) -----> (8,7,6,6,4,4) no swap since 6=6\n",
    "<br>(8,7,6,6,4,4) -----> (8,7,6,6,4,4) no swap since 4<6\n",
    "<br>(8,7,6,6,4,4) -----> (8,7,6,6,4,4) no swap since 4=4"
   ]
  },
  {
   "cell_type": "markdown",
   "id": "ec521d23-c59d-433f-b847-77bef7581b3f",
   "metadata": {
    "tags": []
   },
   "source": [
    "#### Now it's time to apply this algorithm to ApplicantsInfo.txt"
   ]
  },
  {
   "cell_type": "code",
   "execution_count": 3,
   "id": "bf70173d-0c1b-4e36-893b-e2e8bb49c2e4",
   "metadata": {
    "tags": []
   },
   "outputs": [],
   "source": [
    "#### Open ApplicantsInfo.txt\n",
    "data=[]\n",
    "with  open('ApplicantsInfo.txt','r') as f:\n",
    "    #### read each lines and stored it into data \n",
    "    data=f.readlines()\n",
    "    \n",
    "def Bubble_Sort(N):\n",
    "    start=perf_counter()## perf_counter() in order to compute the time that algorithm needs to execute the query stored into ApplicantsInfo.txt\n",
    "    ######################\n",
    "    \n",
    "    # First of all I created a list where for each row in data, it is appended a nested list where in elemnent 0 it is stored the applicant's name and in element 1 position -->\n",
    "    # --> it is stored the applicant's average\n",
    "    out=[]\n",
    "    for i in range(1,N+1):\n",
    "        row=[]\n",
    "        line=data[i].split(' ')\n",
    "        name=str(line[0])+' ' +str(line[1])\n",
    "        marks=0\n",
    "        row.append(name)\n",
    "        for j in range(2,1002):\n",
    "            marks+=int(line[j])\n",
    "            ### compute the average  dividing by 1000, the number of exams that each student has taken\n",
    "            average=marks/1000\n",
    "        ### setting the precision to 2 decimal points \n",
    "        row.append(round(average,2))\n",
    "        out.append(row)\n",
    "    n=len(out)\n",
    "    \n",
    "    ######################\n",
    "    \n",
    "    # here starts the actual algorithm\n",
    "     \n",
    "    for i in range(n):\n",
    "        for j in range(0,n-i-1):\n",
    "\n",
    "            if out[j][1]<out[j+1][1]:\n",
    "                out[j],out[j+1]=out[j+1],out[j]\n",
    "            elif out[j][1]==out[j+1][1]:\n",
    "                if out[j][0]>out[j+1][0]:\n",
    "                    out[j],out[j+1]=out[j+1],out[j]\n",
    "    ### It swaps two nested list also if it finds two name not in ascending order \n",
    "    \n",
    "    \n",
    "    \n",
    "    ### now I created a txt file where there all the names of the applicants and the average sorted by descending order \n",
    "    with open('RankingList_BubbleSort.txt','w') as f:\n",
    "        for i in out:\n",
    "            a=i[0]+' '+str(i[1])\n",
    "            f.write(a)\n",
    "            f.write('\\n')\n",
    "    \n",
    "    end=perf_counter()\n",
    "    final_time = end-start\n",
    "    time=round(final_time,2)\n",
    "    \n",
    "    return time"
   ]
  },
  {
   "cell_type": "markdown",
   "id": "c888b759-10fb-4307-8e7f-8ba94e83f967",
   "metadata": {},
   "source": [
    "#### Time complexity "
   ]
  },
  {
   "cell_type": "markdown",
   "id": "651a421f-2c59-4ac9-bcda-033f300b8f12",
   "metadata": {},
   "source": [
    "#### Time complexity "
   ]
  },
  {
   "cell_type": "markdown",
   "id": "681b0e11-fd0c-4e02-a073-e01e2df819f8",
   "metadata": {},
   "source": [
    "Assuming that **n** is the length of the array to sort and keeping in mind that Bubble Sort compares two adjacent element of the array:\n",
    "\n",
    "| Iterations     | number of comparisons |\n",
    "|----------------|-----------------------|\n",
    "| 1              | n-1                   |\n",
    "| 2              | n-2                   |\n",
    "| 3              | n-3                   |\n",
    "| ...            | ...                   |\n",
    "| last iteration | 1                     |\n",
    "\n",
    "<br>The total number of comparisons are:\n",
    "<br> T(n)=(n-1)+(n-2)+(n-3)+...+1 = (n-1)n/2 ----> n^2\n",
    "<br> The time complexity of this algorithm is O(n^2)\n",
    "\n"
   ]
  },
  {
   "cell_type": "markdown",
   "id": "f5e8d09b-5b84-4e34-8bf5-101e9420ce74",
   "metadata": {},
   "source": [
    "###### Evaluate the time taken for Bubble Sort to answer the query stored in the ApplicantsInfo.txt file and visualize them."
   ]
  },
  {
   "cell_type": "code",
   "execution_count": 5,
   "id": "45a9147c-2081-439f-8892-874eb5921340",
   "metadata": {
    "tags": []
   },
   "outputs": [],
   "source": [
    "#### I stored the time that this algorithm need in order to sort five array with five different length\n",
    "x=[1000,5000,10000,20000,50000]\n",
    "y=[Bubble_Sort(1000),Bubble_Sort(5000),Bubble_Sort(10000),Bubble_Sort(20000),Bubble_Sort(50000)]"
   ]
  },
  {
   "cell_type": "code",
   "execution_count": null,
   "id": "38094f32-792c-43df-85ef-13339a98c5a0",
   "metadata": {},
   "outputs": [
    {
     "data": {
      "image/png": "[encoded data removed]",
      "text/plain": [
       "<Figure size 640x480 with 1 Axes>"
      ]
     },
     "metadata": {},
     "output_type": "display_data"
    }
   ],
   "source": [
    "### Plot runtime of Bubble Sort\n",
    "plt.plot(x,y)\n",
    "plt.xlabel('Number of applicants to sort')\n",
    "plt.ylabel('Runtime in seconds')\n",
    "plt.title('Bubble Sort runtime')\n",
    "plt.show()"
   ]
  },
  {
   "cell_type": "code",
   "execution_count": 8,
   "id": "b0d3ba1d-e1f9-4647-921c-718a7a1fa4d6",
   "metadata": {
    "tags": []
   },
   "outputs": [
    {
     "data": {
      "text/plain": [
       "290.92"
      ]
     },
     "execution_count": 8,
     "metadata": {},
     "output_type": "execute_result"
    }
   ],
   "source": [
    "Bubble_Sort(50000) #### Time needed to execute the query stored into ApplicantsInfo.txt in seconds"
   ]
  },
  {
   "cell_type": "markdown",
   "id": "db7aa2c0-966c-4887-a54f-8c5aec55b733",
   "metadata": {
    "tags": []
   },
   "source": [
    "##### SELECTION SORT"
   ]
  },
  {
   "cell_type": "markdown",
   "id": "01b24c5e-1578-462f-b3cb-c2f2c5835dcd",
   "metadata": {},
   "source": [
    "The Selection Sort algorithm is another simple sorting algorithm. It basically divided a list in two sub-lists, one(left) is sorted, the other one (right) not.\n",
    "<br>Initially the left-list is empty and the right-list contains all the elements.\n",
    "<br>Basically in each iteration the minimum / maximum element from the unsorted list is taken and moved to the sorted array."
   ]
  },
  {
   "cell_type": "markdown",
   "id": "8afde388-d94c-4ee3-9822-0016decf9478",
   "metadata": {},
   "source": [
    "Even this algorithm like bubble sort is not very suitable for large data beacause its time complexity is pretty high O(n^2).\n",
    "It means that if you have 1000 items, this does 100^2 = 1,000,000 units of work."
   ]
  },
  {
   "cell_type": "markdown",
   "id": "3e01e6b7-02d5-45fe-8f07-e76aac724521",
   "metadata": {},
   "source": [
    "##### How this algorithm work"
   ]
  },
  {
   "cell_type": "markdown",
   "id": "fae22fb1-2dbb-4e72-927c-4d817cf84fde",
   "metadata": {},
   "source": [
    "Let's assume this input : array=[4,6,8,4,6,7]"
   ]
  },
  {
   "cell_type": "markdown",
   "id": "f0148858-b940-4674-b9c2-84b98eac20c7",
   "metadata": {},
   "source": [
    "First step\n",
    "<br>(4,6,8,4,6,7)----->(8,6,4,4,6,7)\n",
    "<br>The array is traversed from index 0 to 5. The first poistion where it is stored 4, after traversing the whole array 8 is the highest values.\n",
    "<br>So the algorithm swaps 8 and 4, so the first element in the sorted array is 8"
   ]
  },
  {
   "cell_type": "markdown",
   "id": "91001b75-cde6-4284-a604-00411b392380",
   "metadata": {},
   "source": [
    "Second step\n",
    "<br>(8,6,4,4,6,7)----->(8,7,4,4,6,6)\n",
    "<br>The array is traversed from index 1 to 5. The second poistion where it is stored 6, after traversing the right array 7 is the highest values.\n",
    "<br>So the algorithm swaps 7 and 6, so the second element in the sorted array is 7"
   ]
  },
  {
   "cell_type": "markdown",
   "id": "0679868f-8adc-48f2-82da-d48579d8da40",
   "metadata": {},
   "source": [
    "Third step\n",
    "<br>(8,7,4,4,6,6)----->(8,7,6,4,4,6)\n",
    "<br>Now the array is traversed from index 2 to 5. The third poistion where it is stored 4, after traversing the right array 6 is the highest values.\n",
    "<br>So the algorithm swaps 6 and 4, so the third element in the sorted array is 6"
   ]
  },
  {
   "cell_type": "markdown",
   "id": "c157f751-3488-45a1-890c-8643f106681a",
   "metadata": {},
   "source": [
    "Fourth step\n",
    "<br>(8,7,6,4,4,6)----->(8,7,6,6,4,4)\n",
    "<br>At last the smallest value present in the array automatically get placed at the last position in the sorted array"
   ]
  },
  {
   "cell_type": "markdown",
   "id": "bd9a7308-4c06-41ae-a7e7-173ddb6b7906",
   "metadata": {
    "tags": []
   },
   "source": [
    "#### Now it's time to apply this algorithm to ApplicantsInfo.txt"
   ]
  },
  {
   "cell_type": "code",
   "execution_count": 4,
   "id": "73991527-87e4-44d5-93b4-88478e7a4cb0",
   "metadata": {
    "tags": []
   },
   "outputs": [],
   "source": [
    "#### Open ApplicantsInfo.txt\n",
    "data=[]\n",
    "with  open('ApplicantsInfo.txt','r') as f:\n",
    "    data=f.readlines()\n",
    "\n",
    "def Selection_Sort(N):\n",
    "    \n",
    "    start=perf_counter() ## perf_counter() in order to compute the time that algorithm needs to execute the query stored into ApplicantsInfo.txt\n",
    "    \n",
    "    ######################\n",
    "    \n",
    "    # First of all I created a list where for each row in data, it is appended a nested list where in elemnent 0 it is stored the applicant's name and in element 1 position -->\n",
    "    # --> it is stored the applicant's average\n",
    "\n",
    "    out=[]\n",
    "    for i in range(1,N+1):\n",
    "        row=[]\n",
    "        line=data[i].split(' ')\n",
    "        name=str(line[0])+' ' +str(line[1])\n",
    "        marks=0\n",
    "        row.append(name)\n",
    "        for j in range(2,1002):\n",
    "            marks+=int(line[j])\n",
    "            ### compute the average  dividing by 1000, the number of exams that each student has taken\n",
    "            average=marks/1000\n",
    "        ### setting the precision to 2 decimal points\n",
    "        row.append(round(average,2))\n",
    "        out.append(row)\n",
    "\n",
    "    ######################\n",
    "    \n",
    "    # here starts the actual algorithm\n",
    "    n=len(out)\n",
    "    \n",
    "    for i in range(n):\n",
    "        min_=i # store the index of the array in order to swap with the maximum element of the unsorted array\n",
    "        for j in range(i+1,n):\n",
    "            if out[min_][1]<out[j][1]  :\n",
    "                         min_=j\n",
    "            elif out[min_][1]==out[j][1]:\n",
    "                if out[min_][0]>out[j][0]:  ### It swaps two nested list also if it finds two name not in ascending order \n",
    "                    min_=j\n",
    "\n",
    "\n",
    "        out[min_],out[i]=out[i],out[min_]\n",
    "    \n",
    "    \n",
    "    \n",
    "    ### now I created a txt file where there all the names of the applicants and the average sorted by descending order \n",
    "    with open('RankingList_SelectionSort.txt','w') as f:\n",
    "        for i in out:\n",
    "            a=i[0]+' '+str(i[1])\n",
    "            f.write(a)\n",
    "            f.write('\\n')\n",
    "    \n",
    "    end=perf_counter()\n",
    "    final_time=end-start\n",
    "    time=round(final_time,2)\n",
    "    \n",
    "    return time\n"
   ]
  },
  {
   "cell_type": "markdown",
   "id": "53e9cdc0-6b4e-4f29-bb27-12009fdd2394",
   "metadata": {},
   "source": [
    "#### Time complexity "
   ]
  },
  {
   "cell_type": "markdown",
   "id": "ca07f121-5a1e-4e16-bc48-d9f801c71c94",
   "metadata": {},
   "source": [
    "Assuming that  **n** is the length of the array to sort, so:\n",
    "\n",
    "| Iterations     | number of comparisons |\n",
    "|----------------|-----------------------|\n",
    "| 1              | n-1                   |\n",
    "| 2              | n-2                   |\n",
    "| 3              | n-3                   |\n",
    "| ...            | ...                   |\n",
    "| last iteration | 1                     |\n",
    "\n",
    "The total number of comparisons are:\n",
    "<br> T(n)=(n-1)+(n-2)+(n-3)+...+1 = (n-1)n/2 ----> n^2\n",
    "<br> The time complexity of this algorithm is O(n^2)"
   ]
  },
  {
   "cell_type": "markdown",
   "id": "82f21544-d2f5-4ede-b671-f957997b460f",
   "metadata": {},
   "source": [
    "##### Evaluate the time taken for Selection Sort to answer the query stored in the ApplicantsInfo.txt file and visualize them."
   ]
  },
  {
   "cell_type": "code",
   "execution_count": 11,
   "id": "24ef6e4b-3aa4-4663-b79e-4ff58a345246",
   "metadata": {},
   "outputs": [],
   "source": [
    "#### I stored the time that this algorithm need in order to sort five array with five different length\n",
    "x=[1000,5000,10000,20000,50000]\n",
    "y=[Selection_Sort(1000),Selection_Sort(5000),Selection_Sort(10000),Selection_Sort(20000),Selection_Sort(50000)]"
   ]
  },
  {
   "cell_type": "code",
   "execution_count": 12,
   "id": "55f146b0-3357-47af-b0b4-df5138276b6f",
   "metadata": {},
   "outputs": [
    {
     "data": {
      "image/png": "[encoded data removed]",
      "text/plain": [
       "<Figure size 640x480 with 1 Axes>"
      ]
     },
     "metadata": {},
     "output_type": "display_data"
    }
   ],
   "source": [
    "### Plot runtime of Selection Sort\n",
    "plt.plot(x,y)\n",
    "plt.xlabel('Numbers of applicants to sort')\n",
    "plt.ylabel('Runtime in seconds')\n",
    "plt.title('Selection Sort runtime')\n",
    "plt.show()"
   ]
  },
  {
   "cell_type": "code",
   "execution_count": 13,
   "id": "9f90e01d-2f72-4c2e-b9e8-6bf4b0ccf45b",
   "metadata": {},
   "outputs": [
    {
     "data": {
      "text/plain": [
       "156.96"
      ]
     },
     "execution_count": 13,
     "metadata": {},
     "output_type": "execute_result"
    }
   ],
   "source": [
    "Selection_Sort(50000)  #### Time needed to sort a list of 50,000 elements in seconds"
   ]
  },
  {
   "cell_type": "markdown",
   "id": "c48b3c88-352d-4f66-b7f4-4e8a35ff4fad",
   "metadata": {
    "tags": []
   },
   "source": [
    "##### QUICK-SORT"
   ]
  },
  {
   "cell_type": "markdown",
   "id": "95a68586-a908-4234-a89e-8ff19705a8f7",
   "metadata": {},
   "source": [
    "The QuickSort algorithm is a sorting algorithm based on the divide and conquer approach.It stored an element of an array as pivot and it builds partions around this pivot element.\n",
    "<br>The type of the QuickSort depends on the method how the pivot element is picked from the array(in this case we always pick the last element as the pivot).\n",
    "<br>The key process in quickSort is a partition(). The aim of partitions is, given an array and an element y as the pivot element, put y at its correct position in a sorted array and put all smaller elements <br>before y, and put all greater elements after y. All this step should be done in linear time.\n",
    "<br>The average time complexity of this algorithm is O(Nlog(N)), it should be faster than the previous two\n"
   ]
  },
  {
   "cell_type": "markdown",
   "id": "c839aed6-246f-42b2-b844-fb8f1f8665ee",
   "metadata": {},
   "source": [
    "##### How this algorithm work"
   ]
  },
  {
   "cell_type": "markdown",
   "id": "67dabca0-5bc7-46da-ab3b-414e79718207",
   "metadata": {},
   "source": [
    "Let's assume this input : array=[4,6,8,4,6,7]"
   ]
  },
  {
   "cell_type": "markdown",
   "id": "b8957214-f921-4040-9c46-f64e20ca56ef",
   "metadata": {},
   "source": [
    "1. Pick pivot element \n",
    "(4,6,8,4,6,7)-----> pivot = 7\n",
    "\n",
    "2. Rearrange the arrays in this way:\n",
    "   2.1 The pivot element is compared with the elements beginning from the first index.\n",
    "      <br>(4,6,8,4,6,7)-----> pivot(7) is compared with 4 \n",
    "  \n",
    "   2.2 If the element is smaller than the pivot element, a second pointer is set for that element.\n",
    "      <br>    (4,6,8,4,6,7)-----> 4<7 so 4 is the second pointer\n",
    "  \n",
    "   2.3 Now, pivot is compared with other elements. If an element greater than the pivot element is reached, the greater element is swapped with the smaller element found earlier.\n",
    "      <br>(4,6,8,4,6,7)-----> (8,6,4,4,6,7) 8>7(pivot) swap 8 and 4\n",
    "  \n",
    "   2.4 Again, the process is repeated to set the next smaller element as the second pointer. And, swap it with another greater element.\n",
    "      <br>(8,6,4,4,6,7)-----> 6 is stored\n",
    "   \n",
    "   2.5 The process goes on until the second last element is reached.\n",
    "      <br>(8,6,4,4,6,7)-----> it goes until 6(index=4)\n",
    "   \n",
    "   2.6 Finally, the pivot element is swapped with the second pointer.\n",
    "      <br>(8,6,4,4,6,7)----->(8,7,4,4,6,6)\n",
    "      \n",
    "3. Divide Sub-arrays, choose the new pivot elements for the left-part of the array and for the right-part and the second step(2.) is repeated\n",
    "\n",
    "This algorithm continues to divide in subarray until each array is formed by a single element, in this way the array is sorted\n",
    "\n",
    "  "
   ]
  },
  {
   "cell_type": "markdown",
   "id": "1aa2a389-f64e-4947-884b-0a16b39b6d2c",
   "metadata": {},
   "source": [
    "#### Now it's time to apply this algorithm to ApplicantsInfo.txt"
   ]
  },
  {
   "cell_type": "code",
   "execution_count": 1,
   "id": "fbf6eacf-99a5-4b37-a3b1-aceca0a12cfb",
   "metadata": {},
   "outputs": [],
   "source": [
    "#### Open ApplicantsInfo.txt\n",
    "with  open('ApplicantsInfo.txt','r') as f:\n",
    "    data=f.readlines()\n",
    "\n",
    "def Partition(out, min_, max_): ### first of all I defined a function in order to build partitions of the array\n",
    "  \n",
    "    # Choose the rightmost element as pivot, in this case the pivot element it is also the name of the student\n",
    "    pivot = out[max_][1]\n",
    "    pivot_name=out[max_][0]\n",
    "  \n",
    "    # Pointer for greater element\n",
    "    i = min_ - 1\n",
    "  \n",
    "    # Traverse through all elements and compare each element with pivot\n",
    "    for j in range(min_, max_):\n",
    "        if out[j][1] > pivot:\n",
    "            # If element greater than pivot is found\n",
    "            # swap it with the smaller element  i\n",
    "            i = i + 1\n",
    "  \n",
    "            # Swapping element at i with element at j\n",
    "            (out[i], out[j]) = (out[j], out[i])\n",
    "        elif out[j][1]==pivot: ## if two applocants have the same average\n",
    "            \n",
    "            if out[j][0]<pivot_name:\n",
    "                # If element smaller than pivot is found\n",
    "                # swap it with the greater element  i\n",
    "                i=i+1\n",
    "               \n",
    "                (out[i], out[j]) = (out[j], out[i])\n",
    "                \n",
    "            \n",
    "  \n",
    "    # Swap the pivot element with the smaller element specified by i\n",
    "    (out[i + 1][1], out[max_][1]) = (out[max_][1], out[i + 1][1])\n",
    "    (out[i + 1][0], out[max_][0]) = (out[max_][0], out[i + 1][0])\n",
    "   \n",
    "    \n",
    "  \n",
    "    # Return the position of the partion\n",
    "    return i + 1\n",
    "  \n",
    "# Function to initialize the list where for each row in data, it is appended a nested list where in elemnent 0 it is stored the applicant's name and in element 1 position -->\n",
    "    # --> it is stored the applicant's average\n",
    "def init(N):\n",
    "    out=[]\n",
    "    for i in range(1,N+1):\n",
    "            row=[]\n",
    "            line=data[i].split(' ')\n",
    "            name=str(line[0])+' ' +str(line[1])\n",
    "            marks=0\n",
    "            row.append(name)\n",
    "            for j in range(2,1002):\n",
    "                marks+=int(line[j])\n",
    "                ### compute the average  dividing by 1000, the number of exams that each student has taken\n",
    "                average=marks/1000\n",
    "            ### setting the precision to 2 decimal points\n",
    "            row.append(round(average,2))\n",
    "            out.append(row)\n",
    "    return out\n",
    "\n",
    "# Function to compute quicksort with recursive  \n",
    "def Quick_Sort(out, min_, max_):\n",
    "    \n",
    "    start=perf_counter() ## perf_counter() in order to compute the time that algorithm needs to sort the list\n",
    "    if min_ < max_:\n",
    "        \n",
    "        # Find pivot element such that\n",
    "        # element greater than pivot are on the left \n",
    "        # element smaller than pivot are on the right \n",
    "        p = Partition(out, min_, max_)\n",
    "       \n",
    "  \n",
    "        # Recursive call on the left side of pivot\n",
    "        Quick_Sort(out, min_, p - 1)\n",
    "  \n",
    "        # Recursive call on the right side of pivot\n",
    "        Quick_Sort(out, p + 1, max_)\n",
    "    end=perf_counter()\n",
    "    final_time=end-start\n",
    "    time=round(final_time,2)\n",
    "    \n",
    "    return out ### change with (return out) to create the get the list ordered as the output \n",
    "\n",
    "# function to create a txt file where there all the names of the applicants and the average sorted by descending order \n",
    "def Quick_Sort_Executequery(N):\n",
    "    start=perf_counter() ## start a counter in order to calcute how does it takes to execute the query \n",
    "    \n",
    "    a=Quick_Sort(init(N),0,len(init(N))-1)\n",
    "    with open('RankingList_QuickSort.txt','w') as f:\n",
    "        for i in a:\n",
    "            a=i[0]+' '+str(i[1])\n",
    "            f.write(a)\n",
    "            f.write('\\n')\n",
    "    \n",
    "    end=perf_counter() ## end the counter\n",
    "    final_time=end-start\n",
    "    time=round(final_time,2)\n",
    "    return time"
   ]
  },
  {
   "cell_type": "markdown",
   "id": "0793d316-7668-424e-97cd-36dc6a701ceb",
   "metadata": {
    "tags": []
   },
   "source": [
    "#### Time complexity "
   ]
  },
  {
   "cell_type": "markdown",
   "id": "e86a2ea6-88a3-484e-9735-154ce60a1cc7",
   "metadata": {},
   "source": [
    "The time complexity of this algorithm depends on the pivot's position into the array:\n",
    "* *Worst case*\n",
    "  <br> This situation occurs when the partition function selects the smallest or the largest element of the array as the pivot every time. \n",
    "  <br> In this case the time complexity of quicksort is O(n^2)\n",
    "  <br> Lets T(n) ne total time complexity for worst case\n",
    "  <br> n is the total number of elements to sort and K is a constant\n",
    "\n",
    "  >     T(n) = T(n-1) + K*n\n",
    "        as we are dividing array into two parts one consist of single element and other of n-1 and we will traverse individual array\n",
    "        T(n) = T(n-2) + K*(n-1) + K*n =  T(n-2) + 2*K*n - K\n",
    "        T(n) = T(n-3) + 3*K*n - 2*K - K\n",
    "        T(n) = T(n-3) + 4*K*n - 3*K - 2*K -K\n",
    "        ....................................................................\n",
    "        for j<n \n",
    "        T(n) = T(n-j) + j*K*n - (j-1)*K - ..... - 2*constant - constant\n",
    "        T(n) = T(n-j) + j*K*n - k*[(j-1) ....  + 3 + 2 + 1]\n",
    "        T(n) = T(n-j) + j*n*K - K*[j*(j-1)/2]\n",
    "        put n=j\n",
    "        T(n) = T(0) + K*n*n - K*[n*(n-1)/2]\n",
    "        deleting K\n",
    "        T(n) = n*n - n*(n-1)/2\n",
    "        T(n) = O(n^2)\n",
    "        \n",
    "* *Best case*\n",
    "  <br> This situation occurs when the pivot elemnt is selected from the middle of the partion:\n",
    "  <br> In this case the time complexity of quick sort is O(nlog(n))\n",
    "  <br> Lets T(n) the total time complexity for best case\n",
    "  <br> n is the total number of elements to sort and K is a constant\n",
    "  >    T(n) = 2*T(n/2) + K*n\n",
    "        2*T(n/2) is because we are dividing array into two array of the same size\n",
    "        <br>K*n is because we will be traversing elements of array \n",
    "        \n",
    "  >      T(n) = 2*T(n/2) + K*n\n",
    "        Dividing the array in two of the same size (like a binary tree)\n",
    "        T(n) = 2*(2*T(n/4) + K*n/2) + K*n = 4*T(n/4) + 2*K*n\n",
    "        T(n) = 2*(4*T(n/8)+ K*n/4)  + K*n = 8*T(n/8) + 4*K*n\n",
    "        T(n) = 2*(8*T(n/16)+ K*n/8)  + K*n = 16*T(n/16) + 8*K*n\n",
    "        ....................................................... \n",
    "        for j<n\n",
    "        T(n) = 2^j * T(n/(2^j)) + j*K*n\n",
    "        n = 2^j\n",
    "        j = log2(n)\n",
    "        Removing the costant \n",
    "        T(n) = n * T(1) + n*logn = O(n*log2(n))\n",
    "  \n",
    "* *Average case*\n",
    "  <br> This situation occurs when the previous situations don't occur.\n",
    "  <br> Considering a random element as pivot, Lets T(n) the total time complexity for average case  and i the pivot picked randomly.\n",
    "  <br>then time complexity will be O(n*log(n))\n",
    "   \n",
    "  \n",
    "                \n"
   ]
  },
  {
   "cell_type": "markdown",
   "id": "3c7076f0-da0c-412c-b73c-663de4fbc9e4",
   "metadata": {},
   "source": [
    "##### Evaluate the time taken for Selection Sort to answer the query stored in the ApplicantsInfo.txt file and visualize them."
   ]
  },
  {
   "cell_type": "code",
   "execution_count": 13,
   "id": "6a4fa23b-f215-419c-8cd0-dc8ede07a322",
   "metadata": {
    "tags": []
   },
   "outputs": [],
   "source": [
    "#### I stored the time that this algorithm need in order to sort five array with five different length\n",
    "x=[1000,5000,10000,20000,50000]\n",
    "y=[Quick_Sort_Executequery(1000),\n",
    "  Quick_Sort_Executequery(5000),\n",
    "  Quick_Sort_Executequery(10000),\n",
    "  Quick_Sort_Executequery(20000),\n",
    "  Quick_Sort_Executequery(50000)]\n",
    "    \n"
   ]
  },
  {
   "cell_type": "code",
   "execution_count": 14,
   "id": "0ac7ba5d-c7ce-4af9-92a9-8ad31d02593e",
   "metadata": {},
   "outputs": [
    {
     "data": {
      "image/png": "[encoded data removed]",
      "text/plain": [
       "<Figure size 640x480 with 1 Axes>"
      ]
     },
     "metadata": {},
     "output_type": "display_data"
    }
   ],
   "source": [
    "## Plot runtime of Quick Sort\n",
    "plt.plot(x,y)\n",
    "plt.xlabel('Lenght of the array to sort')\n",
    "plt.ylabel('Runtime in seconds')\n",
    "plt.title('QuickSort runtime')\n",
    "\n",
    "plt.show()"
   ]
  },
  {
   "cell_type": "code",
   "execution_count": 22,
   "id": "b972a32a-23d6-47d5-8f7c-8755be4a5783",
   "metadata": {
    "tags": []
   },
   "outputs": [
    {
     "data": {
      "text/plain": [
       "14.71"
      ]
     },
     "execution_count": 22,
     "metadata": {},
     "output_type": "execute_result"
    }
   ],
   "source": [
    "Quick_Sort_Executequery(50000) ##### Time needed to sort a list of 50,000 elements in seconds"
   ]
  },
  {
   "cell_type": "code",
   "execution_count": 6,
   "id": "7dde40ff-35fa-4326-bfa5-45e5f91ed4ae",
   "metadata": {},
   "outputs": [],
   "source": [
    "x=[1000,5000,10000,20000,50000]"
   ]
  },
  {
   "cell_type": "code",
   "execution_count": 10,
   "id": "6424f1a1-3dfe-4dd2-8ebd-2019b86646fd",
   "metadata": {},
   "outputs": [],
   "source": [
    "y_BubbleSort=[Bubble_Sort(1000),Bubble_Sort(5000),Bubble_Sort(10000),Bubble_Sort(20000),Bubble_Sort(50000)]\n",
    "\n",
    "y_SelectionSort=[Selection_Sort(1000),Selection_Sort(5000),Selection_Sort(10000),Selection_Sort(20000),Selection_Sort(50000)]"
   ]
  },
  {
   "cell_type": "code",
   "execution_count": 9,
   "id": "f7d1c676-59be-48e5-b59b-4d5bf0e17b7f",
   "metadata": {},
   "outputs": [],
   "source": [
    "y_QuickSort=[Quick_Sort_Executequery(1000),\n",
    "  Quick_Sort_Executequery(5000),\n",
    "  Quick_Sort_Executequery(10000),\n",
    "  Quick_Sort_Executequery(20000),\n",
    "  Quick_Sort_Executequery(50000)]"
   ]
  },
  {
   "cell_type": "code",
   "execution_count": 15,
   "id": "a4b7fb54-7d65-4137-9454-9fa4ea743e9d",
   "metadata": {},
   "outputs": [
    {
     "data": {
      "image/png": "[encoded data removed]",
      "text/plain": [
       "<Figure size 640x480 with 1 Axes>"
      ]
     },
     "metadata": {},
     "output_type": "display_data"
    }
   ],
   "source": [
    "plt.plot(x,y_BubbleSort,label='BubbleSort')\n",
    "plt.plot(x,y_SelectionSort,label='SelectionSort')\n",
    "plt.plot(x,y_QuickSort,label='QuickSort')\n",
    "plt.xlabel('Lenght of the array to sort')\n",
    "plt.ylabel('Runtime in seconds')\n",
    "plt.title('Runtime of all three algorithms')\n",
    "plt.legend()\n",
    "plt.show()"
   ]
  },
  {
   "cell_type": "code",
   "execution_count": null,
   "id": "38ec8f5c-2e41-4652-911b-4021bba98c02",
   "metadata": {},
   "outputs": [],
   "source": []
  }
 ],
 "metadata": {
  "kernelspec": {
   "display_name": "Python 3 (ipykernel)",
   "language": "python",
   "name": "python3"
  },
  "language_info": {
   "codemirror_mode": {
    "name": "ipython",
    "version": 3
   },
   "file_extension": ".py",
   "mimetype": "text/x-python",
   "name": "python",
   "nbconvert_exporter": "python",
   "pygments_lexer": "ipython3",
   "version": "3.9.13"
  }
 },
 "nbformat": 4,
 "nbformat_minor": 5
}

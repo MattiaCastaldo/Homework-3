{
 "cells": [
  {
   "cell_type": "markdown",
   "id": "a775fbbd-a137-40d8-b50a-58a24bcf246b",
   "metadata": {
    "tags": []
   },
   "source": [
    "###  Theoretical question"
   ]
  },
  {
   "cell_type": "code",
   "execution_count": 5,
   "id": "6902cecb-e4ed-47ba-a917-c9d744efc0ff",
   "metadata": {},
   "outputs": [],
   "source": [
    "from time import perf_counter\n",
    "import matplotlib.pyplot as plt"
   ]
  },
  {
   "cell_type": "markdown",
   "id": "4267e35c-0f22-4019-aa49-d3a4f2ecf562",
   "metadata": {
    "tags": []
   },
   "source": [
    "## BUBBLE-SORT"
   ]
  },
  {
   "cell_type": "markdown",
   "id": "24166c01-5476-4b96-be92-838bd4c9f0a9",
   "metadata": {},
   "source": [
    "The Bubble Sort algorithm is one of the simplest sorting algorithm. It basically works by swapping one element with his adiacent one if they are not in a correct  order.\n",
    "<br>This sorting algorithm is not really good for large data beacuse its time-complexitity is pretty high.\n",
    "<br>It means that if you have 1000 items, this does 100^2 = 1,000,000 units of work.\n"
   ]
  },
  {
   "cell_type": "markdown",
   "id": "a6c352f2-eb59-4cde-8748-c60ed3713528",
   "metadata": {},
   "source": [
    "##### How this algorithm work"
   ]
  },
  {
   "cell_type": "markdown",
   "id": "723d9bf1-213d-4d8a-ab09-b750c6f2f815",
   "metadata": {},
   "source": [
    "Let's assume this input : array=[4,6,8,4,6,7]"
   ]
  },
  {
   "cell_type": "markdown",
   "id": "10b0d652-f16a-4485-aff3-36a1d6588e8a",
   "metadata": {},
   "source": [
    "First Step\n",
    "<br>(4,6,8,4,6,7) -----> (6,4,8,4,6,7) swap 4 and 6 since 6>4\n",
    "<br>(6,4,8,4,6,7) -----> (6,8,4,4,6,7) swap 8 and 4 since 8>4\n",
    "<br>(6,8,4,4,6,7) -----> (6,8,4,4,6,7) no swap 4 = 4\n",
    "<br>(6,8,4,4,6,7) -----> (6,8,4,6,4,7) swap 6 and 4 since 6>4\n",
    "<br>(6,8,4,6,4,7) -----> (6,8,4,6,7,4) swap 7 and 4 since 7>4"
   ]
  },
  {
   "cell_type": "markdown",
   "id": "e372fd68-e94e-4371-8788-abf4ef60050a",
   "metadata": {},
   "source": [
    "Second step\n",
    "<br>(6,8,4,6,7,4) -----> (8,6,4,6,7,4) swap 8 and 6 since 8>6\n",
    "<br>(8,6,4,6,7,4) -----> (8,6,4,6,7,4) no swap since 4<6\n",
    "<br>(8,6,4,6,7,4) -----> (8,6,6,4,7,4) swap 6 and 4 since 6>4\n",
    "<br>(8,6,6,4,7,4) -----> (8,6,6,7,4,4) swap 7 and 4 since 7 > 4\n",
    "<br>(8,6,6,7,4,4) -----> (8,6,6,7,4,4) no swap since 4=4"
   ]
  },
  {
   "cell_type": "markdown",
   "id": "d9dce42c-991b-4838-93a8-93aecc884bcd",
   "metadata": {},
   "source": [
    "Third step\n",
    "<br>(8,6,6,7,4,4) -----> (8,6,6,7,4,4) no swap since 6<8\n",
    "<br>(8,6,6,7,4,4) -----> (8,6,6,7,4,4) no swap since 6=6\n",
    "<br>(8,6,6,7,4,4) -----> (8,6,7,6,4,4) swap 7 and 6 since 7>6\n",
    "<br>(8,6,7,6,4,4) -----> (8,6,7,6,4,4) no swap since 4<6\n",
    "<br>(8,6,7,6,4,4) -----> (8,6,7,6,4,4) no swap since 4=4"
   ]
  },
  {
   "cell_type": "markdown",
   "id": "da2302ca-0182-4f17-becc-df2bcec7293d",
   "metadata": {},
   "source": [
    "Fourth step\n",
    "<br>(8,6,7,6,4,4) -----> (8,6,7,6,4,4) no swap since 6<8\n",
    "<br>(8,6,7,6,4,4) -----> (8,7,6,6,4,4) swap 7 and 6 since 7>6\n",
    "<br>(8,7,6,6,4,4) -----> (8,7,6,6,4,4) no swap since 6=6\n",
    "<br>(8,7,6,6,4,4) -----> (8,7,6,6,4,4) no swap since 4<6\n",
    "<br>(8,7,6,6,4,4) -----> (8,7,6,6,4,4) no swap since 4 = 4"
   ]
  },
  {
   "cell_type": "markdown",
   "id": "bf9b8cf7-24ec-48d5-bf33-3be03bcbe2c4",
   "metadata": {},
   "source": [
    "Although the array is already sorted, the algorithm needs a swap-free pass in order to be completed"
   ]
  },
  {
   "cell_type": "markdown",
   "id": "abdaee0a-73b3-4331-b962-c949f29296c6",
   "metadata": {},
   "source": [
    "Fifth Step\n",
    "<br>(8,7,6,6,4,4) -----> (8,7,6,6,4,4) no swap since 6<8\n",
    "<br>(8,7,6,6,4,4) -----> (8,7,6,6,4,4) no swap since 6<7\n",
    "<br>(8,7,6,6,4,4) -----> (8,7,6,6,4,4) no swap since 6=6\n",
    "<br>(8,7,6,6,4,4) -----> (8,7,6,6,4,4) no swap since 4<6\n",
    "<br>(8,7,6,6,4,4) -----> (8,7,6,6,4,4) no swap since 4=4"
   ]
  },
  {
   "cell_type": "markdown",
   "id": "98aa49ae-d7a4-4b33-9371-9a584a53ee79",
   "metadata": {},
   "source": [
    "#### Now it's time to apply this algorithm to ApplicantsInfo.txt"
   ]
  },
  {
   "cell_type": "code",
   "execution_count": 1,
   "id": "affef4ce-ea44-4028-bae3-5cc18261b9f1",
   "metadata": {
    "tags": []
   },
   "outputs": [],
   "source": [
    "#### Open ApplicantsInfo.txt\n",
    "data=[]\n",
    "with  open('ApplicantsInfo.txt','r') as f:\n",
    "    #### read each lines and stored it into data \n",
    "    data=f.readlines()\n",
    "    \n",
    "def Bubble_Sort(N):\n",
    "    ######################\n",
    "    \n",
    "    # First of all I created a list where for each row in data, it is appended a nested list where in elemnent 0 it is stored the applicant's name and in element 1 position -->\n",
    "    # --> it is stored the applicant's average\n",
    "    out=[]\n",
    "    for i in range(1,N+1):\n",
    "        row=[]\n",
    "        line=data[i].split(' ')\n",
    "        name=str(line[0])+' ' +str(line[1])\n",
    "        marks=0\n",
    "        row.append(name)\n",
    "        for j in range(2,1002):\n",
    "            marks+=int(line[j])\n",
    "            ### compute the average  dividing by 1000, the number of exams that each student has taken\n",
    "            average=marks/1000\n",
    "        ### setting the precision to 2 decimal points \n",
    "        row.append(round(average,2))\n",
    "        out.append(row)\n",
    "    n=len(out)\n",
    "    ######################\n",
    "    \n",
    "    # here starts the actual algorithm\n",
    "    start=perf_counter() ## perf_counter() in order to compute the time that algorithm needs to sort the list\n",
    "    for i in range(n):\n",
    "        for j in range(0,n-i-1):\n",
    "\n",
    "            if out[j][1]<out[j+1][1]:\n",
    "                out[j],out[j+1]=out[j+1],out[j]\n",
    "            elif out[j][1]==out[j+1][1]:\n",
    "                if out[j][0]>out[j+1][0]:\n",
    "                    out[j],out[j+1]=out[j+1],out[j]\n",
    "    ### It swaps two nested list also if it finds two name not in ascending order \n",
    "    end=perf_counter()\n",
    "    final_time = end-start\n",
    "    time=round(final_time,2)\n",
    "    ### now I created a txt file where there all the names of the applicants and the average sorted by descending order \n",
    "    with open('RankingList_Selection_Sort.txt','w') as f:\n",
    "        for i in out:\n",
    "            a=i[0]+' '+str(i[1])\n",
    "            f.write(a)\n",
    "            f.write('\\n')\n",
    "\n",
    "    return time"
   ]
  },
  {
   "cell_type": "markdown",
   "id": "b6b8a2fe-10c9-47b0-90a2-414692b45c29",
   "metadata": {},
   "source": [
    "#### Time complexity "
   ]
  },
  {
   "cell_type": "code",
   "execution_count": 8,
   "id": "4c0df42b-0c88-4b85-9c76-41019f72f9b5",
   "metadata": {
    "tags": []
   },
   "outputs": [],
   "source": [
    "#### I stored the time that this algorithm need in order to sort five array with five different length\n",
    "x=[1000,5000,10000,20000,50000]\n",
    "y=[Bubble_Sort(1000),Bubble_Sort(5000),Bubble_Sort(10000),Bubble_Sort(20000),Bubble_Sort(50000)]"
   ]
  },
  {
   "cell_type": "code",
   "execution_count": 9,
   "id": "c631c68d-a1d5-41eb-9070-8422ce9fe96b",
   "metadata": {},
   "outputs": [
    {
     "data": {
      "image/png": "[encoded data removed]",
      "text/plain": [
       "<Figure size 640x480 with 1 Axes>"
      ]
     },
     "metadata": {},
     "output_type": "display_data"
    }
   ],
   "source": [
    "### Plot time complexity\n",
    "plt.plot(x,y)\n",
    "plt.xlabel('Length of the array to sort')\n",
    "plt.ylabel('Runtime in seconds')\n",
    "plt.title('Bubble-Sort runtime')\n",
    "plt.show()"
   ]
  },
  {
   "cell_type": "code",
   "execution_count": 10,
   "id": "4877ffbd-4f47-4026-8b01-0721b95360c7",
   "metadata": {
    "tags": []
   },
   "outputs": [
    {
     "data": {
      "text/plain": [
       "295.31"
      ]
     },
     "execution_count": 10,
     "metadata": {},
     "output_type": "execute_result"
    }
   ],
   "source": [
    "Bubble_Sort(50000) #### Time needed to sort a list of 50,000 elements in seconds"
   ]
  },
  {
   "cell_type": "markdown",
   "id": "a1d1205c-1613-4f38-b36a-c3e11dd3705e",
   "metadata": {
    "tags": []
   },
   "source": [
    "##### SELECTION SORT"
   ]
  },
  {
   "cell_type": "markdown",
   "id": "358ca0bf-4d69-4ec8-9233-500f205dda4c",
   "metadata": {},
   "source": [
    "The Selection Sort algorithm is another simple sorting algorithm. It basically divided a list in two sub-lists, one(left) is sorted, the other one (right) not.\n",
    "<br>Initially the left-list is empty and the right-list contains all the elements.\n",
    "<br>Basically in each iteration the minimum / maximum element from the unsorted list is taken and moved to the sorted array."
   ]
  },
  {
   "cell_type": "markdown",
   "id": "6e3b0aa6-7c50-4c37-b6eb-0fcb1aa48240",
   "metadata": {},
   "source": [
    "Even this algorithm like bubble sort is not very suitable for large data beacause its time complexity is pretty high O(n^2).\n",
    "It means that if you have 1000 items, this does 100^2 = 1,000,000 units of work."
   ]
  },
  {
   "cell_type": "markdown",
   "id": "44a7e616-f97c-47bb-bb63-7ee3bb787e56",
   "metadata": {},
   "source": [
    "##### How this algorithm work"
   ]
  },
  {
   "cell_type": "markdown",
   "id": "99e82f0b-312b-4568-bdb6-4a7dd89787d4",
   "metadata": {},
   "source": [
    "Let's assume this input : array=[4,6,8,4,6,7]"
   ]
  },
  {
   "cell_type": "markdown",
   "id": "e3731bf9-7dcc-4fce-8a3e-9a7241908487",
   "metadata": {},
   "source": [
    "First step\n",
    "<br>(4,6,8,4,6,7)----->(8,6,4,4,6,7)\n",
    "<br>The array is traversed from index 0 to 5. The first poistion where it is stored 4, after traversing the whole array 8 is the highest values.\n",
    "<br>So the algorithm swaps 8 and 4, so the first element in the sorted array is 8"
   ]
  },
  {
   "cell_type": "markdown",
   "id": "e4480827-b3c8-4e2c-b3f8-6c0d595422ad",
   "metadata": {},
   "source": [
    "Second step\n",
    "<br>(8,6,4,4,6,7)----->(8,7,4,4,6,6)\n",
    "<br>The array is traversed from index 1 to 5. The second poistion where it is stored 6, after traversing the right array 7 is the highest values.\n",
    "<br>So the algorithm swaps 7 and 6, so the second element in the sorted array is 7"
   ]
  },
  {
   "cell_type": "markdown",
   "id": "8d35c428-3e2f-479d-bf10-f87e33c09a0a",
   "metadata": {},
   "source": [
    "Third step\n",
    "<br>(8,7,4,4,6,6)----->(8,7,6,4,4,6)\n",
    "<br>Now the array is traversed from index 2 to 5. The third poistion where it is stored 4, after traversing the right array 6 is the highest values.\n",
    "<br>So the algorithm swaps 6 and 4, so the third element in the sorted array is 6"
   ]
  },
  {
   "cell_type": "markdown",
   "id": "8a958198-34f5-4cec-be28-66ef0092ec5f",
   "metadata": {},
   "source": [
    "Fourth step\n",
    "<br>(8,7,6,4,4,6)----->(8,7,6,6,4,4)\n",
    "<br>At last the smallest value present in the array automatically get placed at the last position in the sorted array"
   ]
  },
  {
   "cell_type": "markdown",
   "id": "11b44137-3cf9-41b4-a0f3-e4b6befebb8e",
   "metadata": {
    "tags": []
   },
   "source": [
    "#### Now it's time to apply this algorithm to ApplicantsInfo.txt"
   ]
  },
  {
   "cell_type": "code",
   "execution_count": 12,
   "id": "3cf867fb-3f81-4475-b5be-ee3f87c26d96",
   "metadata": {
    "tags": []
   },
   "outputs": [],
   "source": [
    "#### Open ApplicantsInfo.txt\n",
    "data=[]\n",
    "with  open('ApplicantsInfo.txt','r') as f:\n",
    "    data=f.readlines()\n",
    "\n",
    "def Selection_Sort(N):\n",
    "    ######################\n",
    "    \n",
    "    # First of all I created a list where for each row in data, it is appended a nested list where in elemnent 0 it is stored the applicant's name and in element 1 position -->\n",
    "    # --> it is stored the applicant's average\n",
    "\n",
    "    out=[]\n",
    "    for i in range(1,N+1):\n",
    "        row=[]\n",
    "        line=data[i].split(' ')\n",
    "        name=str(line[0])+' ' +str(line[1])\n",
    "        marks=0\n",
    "        row.append(name)\n",
    "        for j in range(2,1002):\n",
    "            marks+=int(line[j])\n",
    "            ### compute the average  dividing by 1000, the number of exams that each student has taken\n",
    "            average=marks/1000\n",
    "        ### setting the precision to 2 decimal points\n",
    "        row.append(round(average,2))\n",
    "        out.append(row)\n",
    "\n",
    "    ######################\n",
    "    \n",
    "    # here starts the actual algorithm\n",
    "    n=len(out)\n",
    "    start=perf_counter() ## perf_counter() in order to compute the time that algorithm needs to sort the list\n",
    "    for i in range(n):\n",
    "        min_=i # store the index of the array in order to swap with the maximum element of the unsorted array\n",
    "        for j in range(i+1,n):\n",
    "            if out[min_][1]<out[j][1]  :\n",
    "                         min_=j\n",
    "            elif out[min_][1]==out[j][1]:\n",
    "                if out[min_][0]>out[j][0]:  ### It swaps two nested list also if it finds two name not in ascending order \n",
    "                    min_=j\n",
    "\n",
    "\n",
    "        out[min_],out[i]=out[i],out[min_]\n",
    "    end=perf_counter()\n",
    "    final_time=end-start\n",
    "    time=round(final_time,2)\n",
    "    ### now I created a txt file where there all the names of the applicants and the average sorted by descending order \n",
    "\n",
    "    return time\n"
   ]
  },
  {
   "cell_type": "code",
   "execution_count": null,
   "id": "2f506640-62c7-433f-ae1e-e8557fcfa0f5",
   "metadata": {},
   "outputs": [],
   "source": [
    "with open('RankingList_Selection_Sort.txt','w') as f:\n",
    "        for i in out:\n",
    "            a=i[0]+' '+str(i[1])\n",
    "            f.write(a)\n",
    "            f.write('\\n')"
   ]
  },
  {
   "cell_type": "markdown",
   "id": "a6cf621d-cee9-4fcf-aaff-4ab6e23adc5b",
   "metadata": {},
   "source": [
    "#### Time complexity "
   ]
  },
  {
   "cell_type": "code",
   "execution_count": 13,
   "id": "521fc55e-c384-4661-99bd-3072ed466761",
   "metadata": {},
   "outputs": [],
   "source": [
    "#### I stored the time that this algorithm need in order to sort five array with five different length\n",
    "x=[1000,5000,10000,20000,50000]\n",
    "y=[Selection_Sort(1000),Selection_Sort(5000),Selection_Sort(10000),Selection_Sort(20000),Selection_Sort(50000)]"
   ]
  },
  {
   "cell_type": "code",
   "execution_count": 14,
   "id": "4ef48e24-0daa-45dc-80a9-75c89c73a893",
   "metadata": {},
   "outputs": [
    {
     "data": {
      "image/png": "[encoded data removed]",
      "text/plain": [
       "<Figure size 640x480 with 1 Axes>"
      ]
     },
     "metadata": {},
     "output_type": "display_data"
    }
   ],
   "source": [
    "### Plot time complexity\n",
    "plt.plot(x,y)\n",
    "plt.xlabel('Length of the array to sort')\n",
    "plt.ylabel('Runtime in seconds')\n",
    "plt.title('Selection_Sort runtime')\n",
    "plt.show()"
   ]
  },
  {
   "cell_type": "code",
   "execution_count": 15,
   "id": "e8f6c6a9-fcf9-40dc-afd0-ca29ff5504d8",
   "metadata": {},
   "outputs": [
    {
     "data": {
      "text/plain": [
       "143.24"
      ]
     },
     "execution_count": 15,
     "metadata": {},
     "output_type": "execute_result"
    }
   ],
   "source": [
    "Selection_Sort(50000)  #### Time needed to sort a list of 50,000 elements in seconds"
   ]
  },
  {
   "cell_type": "markdown",
   "id": "24a3349b-292b-4114-93cd-0901884098d9",
   "metadata": {
    "tags": []
   },
   "source": [
    "##### QUICK-SORT"
   ]
  },
  {
   "cell_type": "markdown",
   "id": "115f4805-3dc8-4f84-8bb2-bebe4da33040",
   "metadata": {},
   "source": [
    "The QuickSort algorithm is a sorting algorithm based on the divide and conquer approach.It stored an element of an array as pivot and it builds partions around this pivot element.\n",
    "<br>The type of the QuickSort depends on the method how the pivot element is picked from the array(in this case we always pick the last element as the pivot).\n",
    "<br>The key process in quickSort is a partition(). The aim of partitions is, given an array and an element y as the pivot element, put y at its correct position in a sorted array and put all smaller elements <br>before y, and put all greater elements after y. All this step should be done in linear time.\n",
    "<br>The average time complexity of this algorithm is O(Nlog(N)), it should be faster than the previous two\n"
   ]
  },
  {
   "cell_type": "markdown",
   "id": "85320113-37b7-4648-b5fb-f9182841add4",
   "metadata": {},
   "source": [
    "The average time complexity of this algorithm is O(Nlog(N)), it should be faster than the previous two"
   ]
  },
  {
   "cell_type": "markdown",
   "id": "096612c3-e962-40a3-9bbf-6350e6821db2",
   "metadata": {},
   "source": [
    "##### How this algorithm work"
   ]
  },
  {
   "cell_type": "markdown",
   "id": "91990365-639e-4c98-b4d4-c01decaeda38",
   "metadata": {},
   "source": [
    "Let's assume this input : array=[4,6,8,4,6,7]"
   ]
  },
  {
   "cell_type": "markdown",
   "id": "61770747-76e3-4878-97e0-4ab80bcb0c76",
   "metadata": {},
   "source": [
    "1. Pick pivot element \n",
    "(4,6,8,4,6,7)-----> pivot = 7\n",
    "\n",
    "2. Rearrange the arrays in this way:\n",
    "   2.1 The pivot element is compared with the elements beginning from the first index.\n",
    "      <br>(4,6,8,4,6,7)-----> pivot(7) is compared with 4 \n",
    "  \n",
    "   2.2 If the element is smaller than the pivot element, a second pointer is set for that element.\n",
    "      <br>    (4,6,8,4,6,7)-----> 4<7 so 4 is the second pointer\n",
    "  \n",
    "   2.3 Now, pivot is compared with other elements. If an element greater than the pivot element is reached, the greater element is swapped with the smaller element found earlier.\n",
    "      <br>(4,6,8,4,6,7)-----> (8,6,4,4,6,7) 8>7(pivot) swap 8 and 4\n",
    "  \n",
    "   2.4 Again, the process is repeated to set the next smaller element as the second pointer. And, swap it with another greater element.\n",
    "      <br>(8,6,4,4,6,7)-----> 6 is stored\n",
    "   \n",
    "   2.5 The process goes on until the second last element is reached.\n",
    "      <br>(8,6,4,4,6,7)-----> it goes until 6(index=4)\n",
    "   \n",
    "   2.6 Finally, the pivot element is swapped with the second pointer.\n",
    "      <br>(8,6,4,4,6,7)----->(8,7,4,4,6,6)\n",
    "      \n",
    "3. Divide Sub-arrays, choose the new pivot elements for the left-part of the array and for the right-part and the second step(2.) is repeated\n",
    "\n",
    "This algorithm continues to divide in subarray until each array is formed by a single element, in this way the array is sorted\n",
    "\n",
    "  "
   ]
  },
  {
   "cell_type": "markdown",
   "id": "c273f1b3-08fe-43d2-a3bc-af8156d3b3c6",
   "metadata": {},
   "source": [
    "#### Now it's time to apply this algorithm to ApplicantsInfo.txt"
   ]
  },
  {
   "cell_type": "code",
   "execution_count": 15,
   "id": "dd425482-4565-4dc9-9ab6-923f22d703ed",
   "metadata": {},
   "outputs": [],
   "source": [
    "#### Open ApplicantsInfo.txt\n",
    "with  open('ApplicantsInfo.txt','r') as f:\n",
    "    data=f.readlines()\n",
    "\n",
    "def partition(out, low, high): ### first of all I defined a function in order to build partitions of the array\n",
    "  \n",
    "    # Choose the rightmost element as pivot, in this case the pivot element it is also the name of the student\n",
    "    pivot = out[high][1]\n",
    "    pivot_name=out[high][0]\n",
    "  \n",
    "    # Pointer for greater element\n",
    "    i = low - 1\n",
    "  \n",
    "    # Traverse through all elements and compare each element with pivot\n",
    "    for j in range(low, high):\n",
    "        if out[j][1] > pivot:\n",
    "            # If element greater than pivot is found\n",
    "            # swap it with the smaller element  i\n",
    "            i = i + 1\n",
    "  \n",
    "            # Swapping element at i with element at j\n",
    "            (out[i], out[j]) = (out[j], out[i])\n",
    "        elif out[j][1]==pivot:\n",
    "            \n",
    "            if out[j][0]<pivot_name:\n",
    "                # If element smaller than pivot is found\n",
    "                # swap it with the greater element  i\n",
    "                i=i+1\n",
    "               \n",
    "                (out[i], out[j]) = (out[j], out[i])\n",
    "                \n",
    "            \n",
    "  \n",
    "    # Swap the pivot element with the smaller element specified by i\n",
    "    (out[i + 1][1], out[high][1]) = (out[high][1], out[i + 1][1])\n",
    "    (out[i + 1][0], out[high][0]) = (out[high][0], out[i + 1][0])\n",
    "   \n",
    "    \n",
    "  \n",
    "    # Return the position from where partition is done\n",
    "    return i + 1\n",
    "  \n",
    "# Function to initialioze the list where for each row in data, it is appended a nested list where in elemnent 0 it is stored the applicant's name and in element 1 position -->\n",
    "    # --> it is stored the applicant's average\n",
    "def init(N):\n",
    "    out=[]\n",
    "    for i in range(1,N+1):\n",
    "            row=[]\n",
    "            line=data[i].split(' ')\n",
    "            name=str(line[0])+' ' +str(line[1])\n",
    "            marks=0\n",
    "            row.append(name)\n",
    "            for j in range(2,1002):\n",
    "                marks+=int(line[j])\n",
    "                ### compute the average  dividing by 1000, the number of exams that each student has taken\n",
    "                average=marks/1000\n",
    "            ### setting the precision to 2 decimal points\n",
    "            row.append(round(average,2))\n",
    "            out.append(row)\n",
    "    return out\n",
    "\n",
    "# Function to compute quicksort with recursive  \n",
    "def quick_sort(out, low, high):\n",
    "    \n",
    "    start=perf_counter() ## perf_counter() in order to compute the time that algorithm needs to sort the list\n",
    "    if low < high:\n",
    "  \n",
    "        # Find pivot element such that\n",
    "        # element greater than pivot are on the left side\n",
    "        # element smaller than pivot are on the right side\n",
    "        pi = partition(out, low, high)\n",
    "  \n",
    "        # Recursive call on the left side of pivot\n",
    "        quick_sort(out, low, pi - 1)\n",
    "  \n",
    "        # Recursive call on the right side of pivot\n",
    "        quick_sort(out, pi + 1, high)\n",
    "    end=perf_counter()\n",
    "    final_time=end-start\n",
    "    time=round(final_time,2)\n",
    "    \n",
    "    return time ### change with (return out) to create the get the list ordered as the output \n",
    "\n",
    "# function to create a txt file where there all the names of the applicants and the average sorted by descending order \n",
    "def write_txt(name):\n",
    "    a=quick_sort(init(50000),0,len(init(50000))-1)\n",
    "    with open('RankingList_QuickSort.txt','w') as f:\n",
    "        for i in a:\n",
    "            a=i[0]+' '+str(i[1])\n",
    "            f.write(a)\n",
    "            f.write('\\n')"
   ]
  },
  {
   "cell_type": "markdown",
   "id": "187b4cf0-356e-42e0-97f3-b322daf5406c",
   "metadata": {
    "tags": []
   },
   "source": [
    "#### Time complexity "
   ]
  },
  {
   "cell_type": "code",
   "execution_count": 11,
   "id": "c266d138-5ea7-41af-862c-13f92fe28e33",
   "metadata": {
    "tags": []
   },
   "outputs": [],
   "source": [
    "#### I stored the time that this algorithm need in order to sort five array with five different length\n",
    "x=[1000,5000,10000,20000,50000]\n",
    "y=[quick_sort(init(1000),0,len(init(1000))-1),\n",
    "  quick_sort(init(5000),0,len(init(5000))-1),\n",
    "  quick_sort(init(10000),0,len(init(10000))-1),\n",
    "  quick_sort(init(20000),0,len(init(20000))-1),\n",
    "  quick_sort(init(50000),0,len(init(50000))-1)]\n",
    "    \n"
   ]
  },
  {
   "cell_type": "code",
   "execution_count": 12,
   "id": "1564e056-ecc9-4448-b154-9c0e7b0bc0c7",
   "metadata": {},
   "outputs": [
    {
     "data": {
      "image/png": "[encoded data removed]",
      "text/plain": [
       "<Figure size 640x480 with 1 Axes>"
      ]
     },
     "metadata": {},
     "output_type": "display_data"
    }
   ],
   "source": [
    "plt.plot(x,y)\n",
    "plt.xlabel('Lenght of the array to sort')\n",
    "plt.ylabel('Runtime in seconds')\n",
    "plt.title('QuickSort runtime')\n",
    "\n",
    "plt.show()"
   ]
  },
  {
   "cell_type": "code",
   "execution_count": 14,
   "id": "7d695747-2cec-4a6f-9bdf-e1714151ea43",
   "metadata": {},
   "outputs": [
    {
     "data": {
      "text/plain": [
       "0.2"
      ]
     },
     "execution_count": 14,
     "metadata": {},
     "output_type": "execute_result"
    }
   ],
   "source": [
    "quick_sort(init(50000),0,len(init(50000))-1) ##### Time needed to sort a list of 50,000 elements in seconds\n"
   ]
  },
  {
   "cell_type": "code",
   "execution_count": null,
   "id": "34221549-5314-42c9-87d6-6664073d63da",
   "metadata": {},
   "outputs": [],
   "source": []
  }
 ],
 "metadata": {
  "kernelspec": {
   "display_name": "Python 3 (ipykernel)",
   "language": "python",
   "name": "python3"
  },
  "language_info": {
   "codemirror_mode": {
    "name": "ipython",
    "version": 3
   },
   "file_extension": ".py",
   "mimetype": "text/x-python",
   "name": "python",
   "nbconvert_exporter": "python",
   "pygments_lexer": "ipython3",
   "version": "3.9.13"
  }
 },
 "nbformat": 4,
 "nbformat_minor": 5
}

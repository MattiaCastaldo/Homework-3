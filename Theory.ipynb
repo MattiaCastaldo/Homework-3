{
 "cells": [
  {
   "cell_type": "markdown",
   "id": "a775fbbd-a137-40d8-b50a-58a24bcf246b",
   "metadata": {
    "tags": []
   },
   "source": [
    "###  Theoretical question"
   ]
  },
  {
   "cell_type": "code",
   "execution_count": 2,
   "id": "6902cecb-e4ed-47ba-a917-c9d744efc0ff",
   "metadata": {},
   "outputs": [],
   "source": [
    "from time import perf_counter\n",
    "import matplotlib.pyplot as plt"
   ]
  },
  {
   "cell_type": "markdown",
   "id": "4267e35c-0f22-4019-aa49-d3a4f2ecf562",
   "metadata": {
    "tags": []
   },
   "source": [
    "## BUBBLE-SORT"
   ]
  },
  {
   "cell_type": "markdown",
   "id": "24166c01-5476-4b96-be92-838bd4c9f0a9",
   "metadata": {},
   "source": [
    "The Bubble Sort algorithm is one of the simplest sorting algorithm. It basically works by swapping one element with his adiacent one if they are not in a correct  order.\n",
    "<br>This sorting algorithm is not really good for large data beacuse its time-complexitity is pretty high.\n",
    "<br>It means that if you have 1000 items, this does 100^2 = 1,000,000 units of work.\n"
   ]
  },
  {
   "cell_type": "markdown",
   "id": "a6c352f2-eb59-4cde-8748-c60ed3713528",
   "metadata": {},
   "source": [
    "##### How this algorithm work"
   ]
  },
  {
   "cell_type": "markdown",
   "id": "723d9bf1-213d-4d8a-ab09-b750c6f2f815",
   "metadata": {},
   "source": [
    "Let's assume this input : array=[4,6,8,4,6,7]"
   ]
  },
  {
   "cell_type": "markdown",
   "id": "10b0d652-f16a-4485-aff3-36a1d6588e8a",
   "metadata": {},
   "source": [
    "First Step\n",
    "<br>(4,6,8,4,6,7) -----> (6,4,8,4,6,7) swap 4 and 6 since 6>4\n",
    "<br>(6,4,8,4,6,7) -----> (6,8,4,4,6,7) swap 8 and 4 since 8>4\n",
    "<br>(6,8,4,4,6,7) -----> (6,8,4,4,6,7) no swap 4 = 4\n",
    "<br>(6,8,4,4,6,7) -----> (6,8,4,6,4,7) swap 6 and 4 since 6>4\n",
    "<br>(6,8,4,6,4,7) -----> (6,8,4,6,7,4) swap 7 and 4 since 7>4"
   ]
  },
  {
   "cell_type": "markdown",
   "id": "e372fd68-e94e-4371-8788-abf4ef60050a",
   "metadata": {},
   "source": [
    "Second step\n",
    "<br>(6,8,4,6,7,4) -----> (8,6,4,6,7,4) swap 8 and 6 since 8>6\n",
    "<br>(8,6,4,6,7,4) -----> (8,6,4,6,7,4) no swap since 4<6\n",
    "<br>(8,6,4,6,7,4) -----> (8,6,6,4,7,4) swap 6 and 4 since 6>4\n",
    "<br>(8,6,6,4,7,4) -----> (8,6,6,7,4,4) swap 7 and 4 since 7 > 4\n",
    "<br>(8,6,6,7,4,4) -----> (8,6,6,7,4,4) no swap since 4=4"
   ]
  },
  {
   "cell_type": "markdown",
   "id": "d9dce42c-991b-4838-93a8-93aecc884bcd",
   "metadata": {},
   "source": [
    "Third step\n",
    "<br>(8,6,6,7,4,4) -----> (8,6,6,7,4,4) no swap since 6<8\n",
    "<br>(8,6,6,7,4,4) -----> (8,6,6,7,4,4) no swap since 6=6\n",
    "<br>(8,6,6,7,4,4) -----> (8,6,7,6,4,4) swap 7 and 6 since 7>6\n",
    "<br>(8,6,7,6,4,4) -----> (8,6,7,6,4,4) no swap since 4<6\n",
    "<br>(8,6,7,6,4,4) -----> (8,6,7,6,4,4) no swap since 4=4"
   ]
  },
  {
   "cell_type": "markdown",
   "id": "da2302ca-0182-4f17-becc-df2bcec7293d",
   "metadata": {},
   "source": [
    "Fourth step\n",
    "<br>(8,6,7,6,4,4) -----> (8,6,7,6,4,4) no swap since 6<8\n",
    "<br>(8,6,7,6,4,4) -----> (8,7,6,6,4,4) swap 7 and 6 since 7>6\n",
    "<br>(8,7,6,6,4,4) -----> (8,7,6,6,4,4) no swap since 6=6\n",
    "<br>(8,7,6,6,4,4) -----> (8,7,6,6,4,4) no swap since 4<6\n",
    "<br>(8,7,6,6,4,4) -----> (8,7,6,6,4,4) no swap since 4 = 4"
   ]
  },
  {
   "cell_type": "markdown",
   "id": "bf9b8cf7-24ec-48d5-bf33-3be03bcbe2c4",
   "metadata": {},
   "source": [
    "Although the array is already sorted, the algorithm needs a swap-free pass in order to be completed"
   ]
  },
  {
   "cell_type": "markdown",
   "id": "abdaee0a-73b3-4331-b962-c949f29296c6",
   "metadata": {},
   "source": [
    "Fifth Step\n",
    "<br>(8,7,6,6,4,4) -----> (8,7,6,6,4,4) no swap since 6<8\n",
    "<br>(8,7,6,6,4,4) -----> (8,7,6,6,4,4) no swap since 6<7\n",
    "<br>(8,7,6,6,4,4) -----> (8,7,6,6,4,4) no swap since 6=6\n",
    "<br>(8,7,6,6,4,4) -----> (8,7,6,6,4,4) no swap since 4<6\n",
    "<br>(8,7,6,6,4,4) -----> (8,7,6,6,4,4) no swap since 4=4"
   ]
  },
  {
   "cell_type": "markdown",
   "id": "98aa49ae-d7a4-4b33-9371-9a584a53ee79",
   "metadata": {},
   "source": [
    "#### Now it's time to apply this algorithm to ApplicantsInfo.txt"
   ]
  },
  {
   "cell_type": "code",
   "execution_count": 3,
   "id": "affef4ce-ea44-4028-bae3-5cc18261b9f1",
   "metadata": {
    "tags": []
   },
   "outputs": [],
   "source": [
    "#### Open ApplicantsInfo.txt\n",
    "data=[]\n",
    "with  open('ApplicantsInfo.txt','r') as f:\n",
    "    #### read each lines and stored it into data \n",
    "    data=f.readlines()\n",
    "    \n",
    "def Bubble_Sort(N):\n",
    "    start=perf_counter()## perf_counter() in order to compute the time that algorithm needs to execute the query stored into ApplicantsInfo.txt\n",
    "    ######################\n",
    "    \n",
    "    # First of all I created a list where for each row in data, it is appended a nested list where in elemnent 0 it is stored the applicant's name and in element 1 position -->\n",
    "    # --> it is stored the applicant's average\n",
    "    out=[]\n",
    "    for i in range(1,N+1):\n",
    "        row=[]\n",
    "        line=data[i].split(' ')\n",
    "        name=str(line[0])+' ' +str(line[1])\n",
    "        marks=0\n",
    "        row.append(name)\n",
    "        for j in range(2,1002):\n",
    "            marks+=int(line[j])\n",
    "            ### compute the average  dividing by 1000, the number of exams that each student has taken\n",
    "            average=marks/1000\n",
    "        ### setting the precision to 2 decimal points \n",
    "        row.append(round(average,2))\n",
    "        out.append(row)\n",
    "    n=len(out)\n",
    "    \n",
    "    ######################\n",
    "    \n",
    "    # here starts the actual algorithm\n",
    "     \n",
    "    for i in range(n):\n",
    "        for j in range(0,n-i-1):\n",
    "\n",
    "            if out[j][1]<out[j+1][1]:\n",
    "                out[j],out[j+1]=out[j+1],out[j]\n",
    "            elif out[j][1]==out[j+1][1]:\n",
    "                if out[j][0]>out[j+1][0]:\n",
    "                    out[j],out[j+1]=out[j+1],out[j]\n",
    "    ### It swaps two nested list also if it finds two name not in ascending order \n",
    "    \n",
    "    \n",
    "    \n",
    "    ### now I created a txt file where there all the names of the applicants and the average sorted by descending order \n",
    "    with open('RankingList_BubbleSort.txt','w') as f:\n",
    "        for i in out:\n",
    "            a=i[0]+' '+str(i[1])\n",
    "            f.write(a)\n",
    "            f.write('\\n')\n",
    "    \n",
    "    end=perf_counter()\n",
    "    final_time = end-start\n",
    "    time=round(final_time,2)\n",
    "    \n",
    "    return time"
   ]
  },
  {
   "cell_type": "markdown",
   "id": "b6b8a2fe-10c9-47b0-90a2-414692b45c29",
   "metadata": {},
   "source": [
    "#### Time complexity "
   ]
  },
  {
   "cell_type": "markdown",
   "id": "05f80152-2712-4d12-8f69-d5fc402ad6d5",
   "metadata": {},
   "source": [
    "Assuming that **n** is the length of the array to sort and keeping in mind that Bubble Sort compares two adjacent element of the array:\n",
    "\n",
    "| Iterations     | number of comparisons |\n",
    "|----------------|-----------------------|\n",
    "| 1              | n-1                   |\n",
    "| 2              | n-2                   |\n",
    "| 3              | n-3                   |\n",
    "| ...            | ...                   |\n",
    "| last iteration | 1                     |\n",
    "\n",
    "<br>The total number of comparisons are:\n",
    "<br> T(n)=(n-1)+(n-2)+(n-3)+...+1 = (n-1)n/2 ----> n^2\n",
    "<br> The time complexity of this algorithm is O(n^2)\n",
    "\n"
   ]
  },
  {
   "cell_type": "markdown",
   "id": "b196fe43-380b-4b36-836c-8ce3ad7688a8",
   "metadata": {},
   "source": [
    "###### Evaluate the time taken for Bubble Sort to answer the query stored in the ApplicantsInfo.txt file and visualize them."
   ]
  },
  {
   "cell_type": "code",
   "execution_count": 5,
   "id": "4c0df42b-0c88-4b85-9c76-41019f72f9b5",
   "metadata": {
    "tags": []
   },
   "outputs": [],
   "source": [
    "#### I stored the time that this algorithm need in order to sort five array with five different length\n",
    "x=[1000,5000,10000,20000,50000]\n",
    "y=[Bubble_Sort(1000),Bubble_Sort(5000),Bubble_Sort(10000),Bubble_Sort(20000),Bubble_Sort(50000)]"
   ]
  },
  {
   "cell_type": "code",
   "execution_count": null,
   "id": "c631c68d-a1d5-41eb-9070-8422ce9fe96b",
   "metadata": {},
   "outputs": [
    {
     "data": {
      "image/png": "[encoded data removed]",
      "text/plain": [
       "<Figure size 640x480 with 1 Axes>"
      ]
     },
     "metadata": {},
     "output_type": "display_data"
    }
   ],
   "source": [
    "### Plot runtime of Bubble Sort\n",
    "plt.plot(x,y)\n",
    "plt.xlabel('Number of applicants to sort')\n",
    "plt.ylabel('Runtime in seconds')\n",
    "plt.title('Bubble Sort runtime')\n",
    "plt.show()"
   ]
  },
  {
   "cell_type": "code",
   "execution_count": 8,
   "id": "4877ffbd-4f47-4026-8b01-0721b95360c7",
   "metadata": {
    "tags": []
   },
   "outputs": [
    {
     "data": {
      "text/plain": [
       "290.92"
      ]
     },
     "execution_count": 8,
     "metadata": {},
     "output_type": "execute_result"
    }
   ],
   "source": [
    "Bubble_Sort(50000) #### Time needed to execute the query stored into ApplicantsInfo.txt in seconds"
   ]
  },
  {
   "cell_type": "markdown",
   "id": "a1d1205c-1613-4f38-b36a-c3e11dd3705e",
   "metadata": {
    "tags": []
   },
   "source": [
    "##### SELECTION SORT"
   ]
  },
  {
   "cell_type": "markdown",
   "id": "358ca0bf-4d69-4ec8-9233-500f205dda4c",
   "metadata": {},
   "source": [
    "The Selection Sort algorithm is another simple sorting algorithm. It basically divided a list in two sub-lists, one(left) is sorted, the other one (right) not.\n",
    "<br>Initially the left-list is empty and the right-list contains all the elements.\n",
    "<br>Basically in each iteration the minimum / maximum element from the unsorted list is taken and moved to the sorted array."
   ]
  },
  {
   "cell_type": "markdown",
   "id": "6e3b0aa6-7c50-4c37-b6eb-0fcb1aa48240",
   "metadata": {},
   "source": [
    "Even this algorithm like bubble sort is not very suitable for large data beacause its time complexity is pretty high O(n^2).\n",
    "It means that if you have 1000 items, this does 100^2 = 1,000,000 units of work."
   ]
  },
  {
   "cell_type": "markdown",
   "id": "44a7e616-f97c-47bb-bb63-7ee3bb787e56",
   "metadata": {},
   "source": [
    "##### How this algorithm work"
   ]
  },
  {
   "cell_type": "markdown",
   "id": "99e82f0b-312b-4568-bdb6-4a7dd89787d4",
   "metadata": {},
   "source": [
    "Let's assume this input : array=[4,6,8,4,6,7]"
   ]
  },
  {
   "cell_type": "markdown",
   "id": "e3731bf9-7dcc-4fce-8a3e-9a7241908487",
   "metadata": {},
   "source": [
    "First step\n",
    "<br>(4,6,8,4,6,7)----->(8,6,4,4,6,7)\n",
    "<br>The array is traversed from index 0 to 5. The first poistion where it is stored 4, after traversing the whole array 8 is the highest values.\n",
    "<br>So the algorithm swaps 8 and 4, so the first element in the sorted array is 8"
   ]
  },
  {
   "cell_type": "markdown",
   "id": "e4480827-b3c8-4e2c-b3f8-6c0d595422ad",
   "metadata": {},
   "source": [
    "Second step\n",
    "<br>(8,6,4,4,6,7)----->(8,7,4,4,6,6)\n",
    "<br>The array is traversed from index 1 to 5. The second poistion where it is stored 6, after traversing the right array 7 is the highest values.\n",
    "<br>So the algorithm swaps 7 and 6, so the second element in the sorted array is 7"
   ]
  },
  {
   "cell_type": "markdown",
   "id": "8d35c428-3e2f-479d-bf10-f87e33c09a0a",
   "metadata": {},
   "source": [
    "Third step\n",
    "<br>(8,7,4,4,6,6)----->(8,7,6,4,4,6)\n",
    "<br>Now the array is traversed from index 2 to 5. The third poistion where it is stored 4, after traversing the right array 6 is the highest values.\n",
    "<br>So the algorithm swaps 6 and 4, so the third element in the sorted array is 6"
   ]
  },
  {
   "cell_type": "markdown",
   "id": "8a958198-34f5-4cec-be28-66ef0092ec5f",
   "metadata": {},
   "source": [
    "Fourth step\n",
    "<br>(8,7,6,4,4,6)----->(8,7,6,6,4,4)\n",
    "<br>At last the smallest value present in the array automatically get placed at the last position in the sorted array"
   ]
  },
  {
   "cell_type": "markdown",
   "id": "11b44137-3cf9-41b4-a0f3-e4b6befebb8e",
   "metadata": {
    "tags": []
   },
   "source": [
    "#### Now it's time to apply this algorithm to ApplicantsInfo.txt"
   ]
  },
  {
   "cell_type": "code",
   "execution_count": 4,
   "id": "3cf867fb-3f81-4475-b5be-ee3f87c26d96",
   "metadata": {
    "tags": []
   },
   "outputs": [],
   "source": [
    "#### Open ApplicantsInfo.txt\n",
    "data=[]\n",
    "with  open('ApplicantsInfo.txt','r') as f:\n",
    "    data=f.readlines()\n",
    "\n",
    "def Selection_Sort(N):\n",
    "    \n",
    "    start=perf_counter() ## perf_counter() in order to compute the time that algorithm needs to execute the query stored into ApplicantsInfo.txt\n",
    "    \n",
    "    ######################\n",
    "    \n",
    "    # First of all I created a list where for each row in data, it is appended a nested list where in elemnent 0 it is stored the applicant's name and in element 1 position -->\n",
    "    # --> it is stored the applicant's average\n",
    "\n",
    "    out=[]\n",
    "    for i in range(1,N+1):\n",
    "        row=[]\n",
    "        line=data[i].split(' ')\n",
    "        name=str(line[0])+' ' +str(line[1])\n",
    "        marks=0\n",
    "        row.append(name)\n",
    "        for j in range(2,1002):\n",
    "            marks+=int(line[j])\n",
    "            ### compute the average  dividing by 1000, the number of exams that each student has taken\n",
    "            average=marks/1000\n",
    "        ### setting the precision to 2 decimal points\n",
    "        row.append(round(average,2))\n",
    "        out.append(row)\n",
    "\n",
    "    ######################\n",
    "    \n",
    "    # here starts the actual algorithm\n",
    "    n=len(out)\n",
    "    \n",
    "    for i in range(n):\n",
    "        min_=i # store the index of the array in order to swap with the maximum element of the unsorted array\n",
    "        for j in range(i+1,n):\n",
    "            if out[min_][1]<out[j][1]  :\n",
    "                         min_=j\n",
    "            elif out[min_][1]==out[j][1]:\n",
    "                if out[min_][0]>out[j][0]:  ### It swaps two nested list also if it finds two name not in ascending order \n",
    "                    min_=j\n",
    "\n",
    "\n",
    "        out[min_],out[i]=out[i],out[min_]\n",
    "    \n",
    "    \n",
    "    \n",
    "    ### now I created a txt file where there all the names of the applicants and the average sorted by descending order \n",
    "    with open('RankingList_SelectionSort.txt','w') as f:\n",
    "        for i in out:\n",
    "            a=i[0]+' '+str(i[1])\n",
    "            f.write(a)\n",
    "            f.write('\\n')\n",
    "    \n",
    "    end=perf_counter()\n",
    "    final_time=end-start\n",
    "    time=round(final_time,2)\n",
    "    \n",
    "    return time\n"
   ]
  },
  {
   "cell_type": "markdown",
   "id": "a6cf621d-cee9-4fcf-aaff-4ab6e23adc5b",
   "metadata": {},
   "source": [
    "#### Time complexity "
   ]
  },
  {
   "cell_type": "markdown",
   "id": "43877a90-b5c6-422f-b46c-665d7223bbd3",
   "metadata": {},
   "source": [
    "Assuming that  **n** is the length of the array to sort, so:\n",
    "\n",
    "| Iterations     | number of comparisons |\n",
    "|----------------|-----------------------|\n",
    "| 1              | n-1                   |\n",
    "| 2              | n-2                   |\n",
    "| 3              | n-3                   |\n",
    "| ...            | ...                   |\n",
    "| last iteration | 1                     |\n",
    "\n",
    "The total number of comparisons are:\n",
    "<br> T(n)=(n-1)+(n-2)+(n-3)+...+1 = (n-1)n/2 ----> n^2\n",
    "<br> The time complexity of this algorithm is O(n^2)"
   ]
  },
  {
   "cell_type": "markdown",
   "id": "82fad628-6a68-4c27-b5c9-495fe6c615de",
   "metadata": {},
   "source": [
    "##### Evaluate the time taken for Selection Sort to answer the query stored in the ApplicantsInfo.txt file and visualize them."
   ]
  },
  {
   "cell_type": "code",
   "execution_count": 11,
   "id": "521fc55e-c384-4661-99bd-3072ed466761",
   "metadata": {},
   "outputs": [],
   "source": [
    "#### I stored the time that this algorithm need in order to sort five array with five different length\n",
    "x=[1000,5000,10000,20000,50000]\n",
    "y=[Selection_Sort(1000),Selection_Sort(5000),Selection_Sort(10000),Selection_Sort(20000),Selection_Sort(50000)]"
   ]
  },
  {
   "cell_type": "code",
   "execution_count": 12,
   "id": "4ef48e24-0daa-45dc-80a9-75c89c73a893",
   "metadata": {},
   "outputs": [
    {
     "data": {
      "image/png": "[encoded data removed]",
      "text/plain": [
       "<Figure size 640x480 with 1 Axes>"
      ]
     },
     "metadata": {},
     "output_type": "display_data"
    }
   ],
   "source": [
    "### Plot runtime of Selection Sort\n",
    "plt.plot(x,y)\n",
    "plt.xlabel('Numbers of applicants to sort')\n",
    "plt.ylabel('Runtime in seconds')\n",
    "plt.title('Selection Sort runtime')\n",
    "plt.show()"
   ]
  },
  {
   "cell_type": "code",
   "execution_count": 13,
   "id": "e8f6c6a9-fcf9-40dc-afd0-ca29ff5504d8",
   "metadata": {},
   "outputs": [
    {
     "data": {
      "text/plain": [
       "156.96"
      ]
     },
     "execution_count": 13,
     "metadata": {},
     "output_type": "execute_result"
    }
   ],
   "source": [
    "Selection_Sort(50000)  #### Time needed to sort a list of 50,000 elements in seconds"
   ]
  },
  {
   "cell_type": "markdown",
   "id": "24a3349b-292b-4114-93cd-0901884098d9",
   "metadata": {
    "tags": []
   },
   "source": [
    "##### QUICK-SORT"
   ]
  },
  {
   "cell_type": "markdown",
   "id": "115f4805-3dc8-4f84-8bb2-bebe4da33040",
   "metadata": {},
   "source": [
    "The QuickSort algorithm is a sorting algorithm based on the divide and conquer approach.It stored an element of an array as pivot and it builds partions around this pivot element.\n",
    "<br>The type of the QuickSort depends on the method how the pivot element is picked from the array(in this case we always pick the last element as the pivot).\n",
    "<br>The key process in quickSort is a partition(). The aim of partitions is, given an array and an element y as the pivot element, put y at its correct position in a sorted array and put all smaller elements <br>before y, and put all greater elements after y. All this step should be done in linear time.\n",
    "<br>The average time complexity of this algorithm is O(Nlog(N)), it should be faster than the previous two\n"
   ]
  },
  {
   "cell_type": "markdown",
   "id": "85320113-37b7-4648-b5fb-f9182841add4",
   "metadata": {},
   "source": [
    "The average time complexity of this algorithm is O(Nlog(N)), it should be faster than the previous two"
   ]
  },
  {
   "cell_type": "markdown",
   "id": "096612c3-e962-40a3-9bbf-6350e6821db2",
   "metadata": {},
   "source": [
    "##### How this algorithm work"
   ]
  },
  {
   "cell_type": "markdown",
   "id": "91990365-639e-4c98-b4d4-c01decaeda38",
   "metadata": {},
   "source": [
    "Let's assume this input : array=[4,6,8,4,6,7]"
   ]
  },
  {
   "cell_type": "markdown",
   "id": "61770747-76e3-4878-97e0-4ab80bcb0c76",
   "metadata": {},
   "source": [
    "1. Pick pivot element \n",
    "(4,6,8,4,6,7)-----> pivot = 7\n",
    "\n",
    "2. Rearrange the arrays in this way:\n",
    "   2.1 The pivot element is compared with the elements beginning from the first index.\n",
    "      <br>(4,6,8,4,6,7)-----> pivot(7) is compared with 4 \n",
    "  \n",
    "   2.2 If the element is smaller than the pivot element, a second pointer is set for that element.\n",
    "      <br>    (4,6,8,4,6,7)-----> 4<7 so 4 is the second pointer\n",
    "  \n",
    "   2.3 Now, pivot is compared with other elements. If an element greater than the pivot element is reached, the greater element is swapped with the smaller element found earlier.\n",
    "      <br>(4,6,8,4,6,7)-----> (8,6,4,4,6,7) 8>7(pivot) swap 8 and 4\n",
    "  \n",
    "   2.4 Again, the process is repeated to set the next smaller element as the second pointer. And, swap it with another greater element.\n",
    "      <br>(8,6,4,4,6,7)-----> 6 is stored\n",
    "   \n",
    "   2.5 The process goes on until the second last element is reached.\n",
    "      <br>(8,6,4,4,6,7)-----> it goes until 6(index=4)\n",
    "   \n",
    "   2.6 Finally, the pivot element is swapped with the second pointer.\n",
    "      <br>(8,6,4,4,6,7)----->(8,7,4,4,6,6)\n",
    "      \n",
    "3. Divide Sub-arrays, choose the new pivot elements for the left-part of the array and for the right-part and the second step(2.) is repeated\n",
    "\n",
    "This algorithm continues to divide in subarray until each array is formed by a single element, in this way the array is sorted\n",
    "\n",
    "  "
   ]
  },
  {
   "cell_type": "markdown",
   "id": "c273f1b3-08fe-43d2-a3bc-af8156d3b3c6",
   "metadata": {},
   "source": [
    "#### Now it's time to apply this algorithm to ApplicantsInfo.txt"
   ]
  },
  {
   "cell_type": "code",
   "execution_count": 1,
   "id": "dd425482-4565-4dc9-9ab6-923f22d703ed",
   "metadata": {},
   "outputs": [],
   "source": [
    "#### Open ApplicantsInfo.txt\n",
    "with  open('ApplicantsInfo.txt','r') as f:\n",
    "    data=f.readlines()\n",
    "\n",
    "def Partition(out, min_, max_): ### first of all I defined a function in order to build partitions of the array\n",
    "  \n",
    "    # Choose the rightmost element as pivot, in this case the pivot element it is also the name of the student\n",
    "    pivot = out[max_][1]\n",
    "    pivot_name=out[max_][0]\n",
    "  \n",
    "    # Pointer for greater element\n",
    "    i = min_ - 1\n",
    "  \n",
    "    # Traverse through all elements and compare each element with pivot\n",
    "    for j in range(min_, max_):\n",
    "        if out[j][1] > pivot:\n",
    "            # If element greater than pivot is found\n",
    "            # swap it with the smaller element  i\n",
    "            i = i + 1\n",
    "  \n",
    "            # Swapping element at i with element at j\n",
    "            (out[i], out[j]) = (out[j], out[i])\n",
    "        elif out[j][1]==pivot: ## if two applocants have the same average\n",
    "            \n",
    "            if out[j][0]<pivot_name:\n",
    "                # If element smaller than pivot is found\n",
    "                # swap it with the greater element  i\n",
    "                i=i+1\n",
    "               \n",
    "                (out[i], out[j]) = (out[j], out[i])\n",
    "                \n",
    "            \n",
    "  \n",
    "    # Swap the pivot element with the smaller element specified by i\n",
    "    (out[i + 1][1], out[max_][1]) = (out[max_][1], out[i + 1][1])\n",
    "    (out[i + 1][0], out[max_][0]) = (out[max_][0], out[i + 1][0])\n",
    "   \n",
    "    \n",
    "  \n",
    "    # Return the position of the partion\n",
    "    return i + 1\n",
    "  \n",
    "# Function to initialize the list where for each row in data, it is appended a nested list where in elemnent 0 it is stored the applicant's name and in element 1 position -->\n",
    "    # --> it is stored the applicant's average\n",
    "def init(N):\n",
    "    out=[]\n",
    "    for i in range(1,N+1):\n",
    "            row=[]\n",
    "            line=data[i].split(' ')\n",
    "            name=str(line[0])+' ' +str(line[1])\n",
    "            marks=0\n",
    "            row.append(name)\n",
    "            for j in range(2,1002):\n",
    "                marks+=int(line[j])\n",
    "                ### compute the average  dividing by 1000, the number of exams that each student has taken\n",
    "                average=marks/1000\n",
    "            ### setting the precision to 2 decimal points\n",
    "            row.append(round(average,2))\n",
    "            out.append(row)\n",
    "    return out\n",
    "\n",
    "# Function to compute quicksort with recursive  \n",
    "def Quick_Sort(out, min_, max_):\n",
    "    \n",
    "    start=perf_counter() ## perf_counter() in order to compute the time that algorithm needs to sort the list\n",
    "    if min_ < max_:\n",
    "        \n",
    "        # Find pivot element such that\n",
    "        # element greater than pivot are on the left \n",
    "        # element smaller than pivot are on the right \n",
    "        p = Partition(out, min_, max_)\n",
    "       \n",
    "  \n",
    "        # Recursive call on the left side of pivot\n",
    "        Quick_Sort(out, min_, p - 1)\n",
    "  \n",
    "        # Recursive call on the right side of pivot\n",
    "        Quick_Sort(out, p + 1, max_)\n",
    "    end=perf_counter()\n",
    "    final_time=end-start\n",
    "    time=round(final_time,2)\n",
    "    \n",
    "    return out ### change with (return out) to create the get the list ordered as the output \n",
    "\n",
    "# function to create a txt file where there all the names of the applicants and the average sorted by descending order \n",
    "def Quick_Sort_Executequery(N):\n",
    "    start=perf_counter() ## start a counter in order to calcute how does it takes to execute the query \n",
    "    \n",
    "    a=Quick_Sort(init(N),0,len(init(N))-1)\n",
    "    with open('RankingList_QuickSort.txt','w') as f:\n",
    "        for i in a:\n",
    "            a=i[0]+' '+str(i[1])\n",
    "            f.write(a)\n",
    "            f.write('\\n')\n",
    "    \n",
    "    end=perf_counter() ## end the counter\n",
    "    final_time=end-start\n",
    "    time=round(final_time,2)\n",
    "    return time"
   ]
  },
  {
   "cell_type": "markdown",
   "id": "187b4cf0-356e-42e0-97f3-b322daf5406c",
   "metadata": {
    "tags": []
   },
   "source": [
    "#### Time complexity "
   ]
  },
  {
   "cell_type": "markdown",
   "id": "453c0c0d-6dba-41cb-ac73-8f34c6c0c942",
   "metadata": {},
   "source": [
    "The time complexity of this algorithm depends on the pivot's position into the array:\n",
    "* *Worst case*\n",
    "  <br> This situation occurs when the partition function selects the smallest or the largest element of the array as the pivot every time. \n",
    "  <br> In this case the time complexity of quicksort is O(n^2)\n",
    "  <br> Lets T(n) ne total time complexity for worst case\n",
    "  <br> n is the total number of elements to sort and K is a constant\n",
    "\n",
    "  >     T(n) = T(n-1) + K*n\n",
    "        as we are dividing array into two parts one consist of single element and other of n-1 and we will traverse individual array\n",
    "        T(n) = T(n-2) + K*(n-1) + K*n =  T(n-2) + 2*K*n - K\n",
    "        T(n) = T(n-3) + 3*K*n - 2*K - K\n",
    "        T(n) = T(n-3) + 4*K*n - 3*K - 2*K -K\n",
    "        ....................................................................\n",
    "        for j<n \n",
    "        T(n) = T(n-j) + j*K*n - (j-1)*K - ..... - 2*constant - constant\n",
    "        T(n) = T(n-j) + j*K*n - k*[(j-1) ....  + 3 + 2 + 1]\n",
    "        T(n) = T(n-j) + j*n*K - K*[j*(j-1)/2]\n",
    "        put n=j\n",
    "        T(n) = T(0) + K*n*n - K*[n*(n-1)/2]\n",
    "        deleting K\n",
    "        T(n) = n*n - n*(n-1)/2\n",
    "        T(n) = O(n^2)\n",
    "        \n",
    "* *Best case*\n",
    "  <br> This situation occurs when the pivot elemnt is selected from the middle of the partion:\n",
    "  <br> In this case the time complexity of quick sort is O(nlog(n))\n",
    "  <br> Lets T(n) the total time complexity for best case\n",
    "  <br> n is the total number of elements to sort and K is a constant\n",
    "  >    T(n) = 2*T(n/2) + K*n\n",
    "        2*T(n/2) is because we are dividing array into two array of the same size\n",
    "        <br>K*n is because we will be traversing elements of array \n",
    "        \n",
    "  >      T(n) = 2*T(n/2) + K*n\n",
    "        Dividing the array in two of the same size (like a binary tree)\n",
    "        T(n) = 2*(2*T(n/4) + K*n/2) + K*n = 4*T(n/4) + 2*K*n\n",
    "        T(n) = 2*(4*T(n/8)+ K*n/4)  + K*n = 8*T(n/8) + 4*K*n\n",
    "        T(n) = 2*(8*T(n/16)+ K*n/8)  + K*n = 16*T(n/16) + 8*K*n\n",
    "        ....................................................... \n",
    "        for j<n\n",
    "        T(n) = 2^j * T(n/(2^j)) + j*K*n\n",
    "        n = 2^j\n",
    "        j = log2(n)\n",
    "        Removing the costant \n",
    "        T(n) = n * T(1) + n*logn = O(n*log2(n))\n",
    "  \n",
    "* *Average case*\n",
    "  <br> This situation occurs when the previous situations don't occur.\n",
    "  <br> Considering a random element as pivot, Lets T(n) the total time complexity for average case  and i the pivot picked randomly.\n",
    "  <br>then time complexity will be O(n*log(n))\n",
    "   \n",
    "  \n",
    "                \n"
   ]
  },
  {
   "cell_type": "markdown",
   "id": "34f4c638-c654-4285-8a32-fb1eb2db04a2",
   "metadata": {},
   "source": [
    "##### Evaluate the time taken for Selection Sort to answer the query stored in the ApplicantsInfo.txt file and visualize them."
   ]
  },
  {
   "cell_type": "code",
   "execution_count": 13,
   "id": "c266d138-5ea7-41af-862c-13f92fe28e33",
   "metadata": {
    "tags": []
   },
   "outputs": [],
   "source": [
    "#### I stored the time that this algorithm need in order to sort five array with five different length\n",
    "x=[1000,5000,10000,20000,50000]\n",
    "y=[Quick_Sort_Executequery(1000),\n",
    "  Quick_Sort_Executequery(5000),\n",
    "  Quick_Sort_Executequery(10000),\n",
    "  Quick_Sort_Executequery(20000),\n",
    "  Quick_Sort_Executequery(50000)]\n",
    "    \n"
   ]
  },
  {
   "cell_type": "code",
   "execution_count": 14,
   "id": "1564e056-ecc9-4448-b154-9c0e7b0bc0c7",
   "metadata": {},
   "outputs": [
    {
     "data": {
      "image/png": "[encoded data removed]",
      "text/plain": [
       "<Figure size 640x480 with 1 Axes>"
      ]
     },
     "metadata": {},
     "output_type": "display_data"
    }
   ],
   "source": [
    "## Plot runtime of Quick Sort\n",
    "plt.plot(x,y)\n",
    "plt.xlabel('Lenght of the array to sort')\n",
    "plt.ylabel('Runtime in seconds')\n",
    "plt.title('QuickSort runtime')\n",
    "\n",
    "plt.show()"
   ]
  },
  {
   "cell_type": "code",
   "execution_count": 22,
   "id": "7d695747-2cec-4a6f-9bdf-e1714151ea43",
   "metadata": {
    "tags": []
   },
   "outputs": [
    {
     "data": {
      "text/plain": [
       "14.71"
      ]
     },
     "execution_count": 22,
     "metadata": {},
     "output_type": "execute_result"
    }
   ],
   "source": [
    "Quick_Sort_Executequery(50000) ##### Time needed to sort a list of 50,000 elements in seconds"
   ]
  },
  {
   "cell_type": "code",
   "execution_count": 6,
   "id": "97c6daa0-3bdf-4611-a776-74f8c4a0704e",
   "metadata": {},
   "outputs": [],
   "source": [
    "x=[1000,5000,10000,20000,50000]"
   ]
  },
  {
   "cell_type": "code",
   "execution_count": 10,
   "id": "e9c9f1ff-22ae-45df-bda4-77ee0b99ef8d",
   "metadata": {},
   "outputs": [],
   "source": [
    "y_BubbleSort=[Bubble_Sort(1000),Bubble_Sort(5000),Bubble_Sort(10000),Bubble_Sort(20000),Bubble_Sort(50000)]\n",
    "\n",
    "y_SelectionSort=[Selection_Sort(1000),Selection_Sort(5000),Selection_Sort(10000),Selection_Sort(20000),Selection_Sort(50000)]"
   ]
  },
  {
   "cell_type": "code",
   "execution_count": 9,
   "id": "34221549-5314-42c9-87d6-6664073d63da",
   "metadata": {},
   "outputs": [],
   "source": [
    "y_QuickSort=[Quick_Sort_Executequery(1000),\n",
    "  Quick_Sort_Executequery(5000),\n",
    "  Quick_Sort_Executequery(10000),\n",
    "  Quick_Sort_Executequery(20000),\n",
    "  Quick_Sort_Executequery(50000)]"
   ]
  },
  {
   "cell_type": "code",
   "execution_count": 15,
   "id": "1b0e5294-160c-48b9-9143-49c37b11c4c0",
   "metadata": {},
   "outputs": [
    {
     "data": {
      "image/png": "[encoded data removed]",
      "text/plain": [
       "<Figure size 640x480 with 1 Axes>"
      ]
     },
     "metadata": {},
     "output_type": "display_data"
    }
   ],
   "source": [
    "plt.plot(x,y_BubbleSort,label='BubbleSort')\n",
    "plt.plot(x,y_SelectionSort,label='SelectionSort')\n",
    "plt.plot(x,y_QuickSort,label='QuickSort')\n",
    "plt.xlabel('Lenght of the array to sort')\n",
    "plt.ylabel('Runtime in seconds')\n",
    "plt.title('Runtime of all three algorithms')\n",
    "plt.legend()\n",
    "plt.show()"
   ]
  }
 ],
 "metadata": {
  "kernelspec": {
   "display_name": "Python 3 (ipykernel)",
   "language": "python",
   "name": "python3"
  },
  "language_info": {
   "codemirror_mode": {
    "name": "ipython",
    "version": 3
   },
   "file_extension": ".py",
   "mimetype": "text/x-python",
   "name": "python",
   "nbconvert_exporter": "python",
   "pygments_lexer": "ipython3",
   "version": "3.9.13"
  }
 },
 "nbformat": 4,
 "nbformat_minor": 5
}

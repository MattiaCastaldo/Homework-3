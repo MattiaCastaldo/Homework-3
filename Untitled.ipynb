{
 "cells": [
  {
   "cell_type": "markdown",
   "id": "01ba3847-a73c-4ad2-9635-95e87a04abd2",
   "metadata": {},
   "source": [
    "# Homework 3 - Places of the world"
   ]
  },
  {
   "cell_type": "code",
   "execution_count": 2,
   "id": "004d0403-37fa-49e0-914c-44eb66be1bdb",
   "metadata": {},
   "outputs": [],
   "source": [
    "from urllib.request import urlopen\n",
    "from bs4 import BeautifulSoup \n",
    "import requests\n",
    "import re\n",
    "import urllib.request\n",
    "import os,shutil\n",
    "import time\n",
    "from clear_cache import clear as clean_cache\n",
    "import multiprocessing\n"
   ]
  },
  {
   "cell_type": "code",
   "execution_count": null,
   "id": "43722e2c-bbf1-4164-bba0-a950fff7a783",
   "metadata": {
    "tags": []
   },
   "outputs": [],
   "source": [
    "f = open(\"urls.txt\", \"w\")\n",
    "\n",
    "for i in range(1,401):\n",
    "    url = f'https://www.atlasobscura.com/places?page={i}&sort=likes_count'\n",
    "    reqs = requests.get(url)\n",
    "    soup = BeautifulSoup(reqs.text, 'html.parser')\n",
    "    for link in soup.find_all(class_=re.compile(\"content-card content-card-place\")):\n",
    "        a=(link.get('href'))\n",
    "        f.write('https://www.atlasobscura.com/'+a)\n",
    "        f.write('\\n')\n",
    "f.close()\n"
   ]
  },
  {
   "cell_type": "code",
   "execution_count": 7,
   "id": "af6e9bd0-dd08-4987-9d11-b7a033c2ef56",
   "metadata": {},
   "outputs": [],
   "source": [
    "os.chdir('..')\n"
   ]
  },
  {
   "cell_type": "code",
   "execution_count": 8,
   "id": "74addb39-1915-4e5a-b926-4475e2f8224b",
   "metadata": {},
   "outputs": [
    {
     "data": {
      "text/plain": [
       "'C:\\\\Users\\\\matti\\\\OneDrive\\\\Desktop\\\\ADM\\\\HW3'"
      ]
     },
     "execution_count": 8,
     "metadata": {},
     "output_type": "execute_result"
    }
   ],
   "source": [
    "os.getcwd()"
   ]
  },
  {
   "cell_type": "code",
   "execution_count": null,
   "id": "ddd88715-6919-4714-8015-e8d1bdf80631",
   "metadata": {
    "tags": []
   },
   "outputs": [
    {
     "name": "stdout",
     "output_type": "stream",
     "text": [
      "Serial download time: 110.53679847717285\n",
      "Serial download time: 114.85602855682373\n",
      "Serial download time: 88.09367799758911\n",
      "Serial download time: 255.49565243721008\n",
      "Serial download time: 175.1507511138916\n",
      "Serial download time: 132.13665509223938\n",
      "Serial download time: 149.25099802017212\n",
      "Serial download time: 85.3791868686676\n",
      "Serial download time: 70.43335437774658\n",
      "Serial download time: 142.63692998886108\n",
      "Serial download time: 86.91801977157593\n",
      "Serial download time: 186.00681591033936\n",
      "Serial download time: 88.52620768547058\n",
      "Serial download time: 154.70643615722656\n",
      "Serial download time: 99.63729476928711\n",
      "Serial download time: 36.77063536643982\n",
      "Serial download time: 125.97530674934387\n",
      "Serial download time: 160.64275598526\n",
      "Serial download time: 78.92935466766357\n",
      "Serial download time: 108.54560041427612\n",
      "Serial download time: 35.13537526130676\n",
      "Serial download time: 46.839380741119385\n",
      "Serial download time: 44.110936880111694\n",
      "Serial download time: 102.50717329978943\n",
      "Serial download time: 90.74671030044556\n",
      "Serial download time: 83.6396427154541\n",
      "Serial download time: 80.64307641983032\n",
      "Serial download time: 154.9883270263672\n",
      "Serial download time: 38.51615762710571\n",
      "Serial download time: 73.51851153373718\n",
      "Serial download time: 83.51143884658813\n",
      "Serial download time: 38.580240964889526\n",
      "Serial download time: 72.6668803691864\n",
      "Serial download time: 50.78574848175049\n",
      "Serial download time: 133.88900423049927\n",
      "Serial download time: 115.7620906829834\n",
      "Serial download time: 141.25915575027466\n",
      "Serial download time: 101.96729302406311\n",
      "Serial download time: 64.94352579116821\n",
      "Serial download time: 78.92845511436462\n",
      "Serial download time: 97.45746898651123\n",
      "Serial download time: 178.25569915771484\n",
      "Serial download time: 58.79745554924011\n",
      "Serial download time: 123.15932321548462\n",
      "Serial download time: 170.49076414108276\n",
      "Serial download time: 86.88487362861633\n",
      "Serial download time: 225.81522488594055\n",
      "Serial download time: 155.61181902885437\n",
      "Serial download time: 161.3154582977295\n",
      "Serial download time: 175.79080200195312\n",
      "Serial download time: 101.75764155387878\n",
      "Serial download time: 172.96797370910645\n",
      "Serial download time: 50.991129875183105\n",
      "Serial download time: 92.0781261920929\n",
      "Serial download time: 204.8813624382019\n",
      "Serial download time: 84.13023471832275\n",
      "Serial download time: 65.59964609146118\n",
      "Serial download time: 71.94857954978943\n"
     ]
    }
   ],
   "source": [
    "def download(a):\n",
    "    for i in range(114,401):\n",
    "        url = f'https://www.atlasobscura.com/places?page={i}&sort=likes_count'\n",
    "        reqs = requests.get(url)\n",
    "        soup = BeautifulSoup(reqs.text, 'html.parser')\n",
    "        os.makedirs('PAGE '+str(i))\n",
    "        os.chdir('PAGE '+str(i))\n",
    "        start_time = time.time()\n",
    "        for link in soup.find_all(class_=re.compile(\"content-card content-card-place\")):\n",
    "            a=(link.get('href'))\n",
    "            url_='https://www.atlasobscura.com/'+a\n",
    "            file= open(str(a)[8:]+'.html','w',encoding=\"UTF-8\")\n",
    "            with urlopen( url_ ) as webpage:\n",
    "                content = webpage.read().decode()\n",
    "            file.write(content)\n",
    "            file.close()\n",
    "        end_time = time.time()\n",
    "        final_time = end_time - start_time\n",
    "        print(\"Serial download time:\", final_time)\n",
    "        os.chdir('..')\n",
    "        clean_cache()\n",
    "\n",
    "N = multiprocessing.cpu_count()*2\n",
    "with multiprocessing.Pool(processes=N) as pool:\n",
    "     pool.map(download('urls.txt'),range(100))\n",
    "        \n",
    "    \n",
    "    \n",
    "\n",
    "\n",
    "\n",
    "    \n",
    "    \n"
   ]
  }
 ],
 "metadata": {
  "kernelspec": {
   "display_name": "Python 3 (ipykernel)",
   "language": "python",
   "name": "python3"
  },
  "language_info": {
   "codemirror_mode": {
    "name": "ipython",
    "version": 3
   },
   "file_extension": ".py",
   "mimetype": "text/x-python",
   "name": "python",
   "nbconvert_exporter": "python",
   "pygments_lexer": "ipython3",
   "version": "3.9.13"
  }
 },
 "nbformat": 4,
 "nbformat_minor": 5
}
